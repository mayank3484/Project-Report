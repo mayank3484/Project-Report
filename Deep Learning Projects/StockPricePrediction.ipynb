{
  "nbformat": 4,
  "nbformat_minor": 0,
  "metadata": {
    "colab": {
      "provenance": []
    },
    "kernelspec": {
      "name": "python3",
      "display_name": "Python 3"
    },
    "language_info": {
      "name": "python"
    }
  },
  "cells": [
    {
      "cell_type": "markdown",
      "source": [
        "#Stock Price Prediction\n",
        "Stock Price Prediction using machine learning helps you discover the future value of company stock and other financial assets traded on an exchange. The entire idea of predicting stock prices is to gain significant profits. Predicting how the stock market will perform is a hard task to do. There are other factors involved in the prediction, such as physical and psychological factors, rational and irrational behavior, and so on. All these factors combine to make share prices dynamic and volatile. This makes it very difficult to predict stock prices with high accuracy."
      ],
      "metadata": {
        "id": "KxpwwtOMSEB7"
      }
    },
    {
      "cell_type": "markdown",
      "source": [
        "# Import Dependencies"
      ],
      "metadata": {
        "id": "TbVGyf95UcIW"
      }
    },
    {
      "cell_type": "markdown",
      "source": [
        "pandas_datareader is a python package for used to access public financial data from the Internet and import it into Python as a DataFrame. It provide up to date remote data access for pandas.\n",
        "\n",
        "It provide access to different api's like Tiingo, IEX, Alpha Vantage,Econdb, Enigma, World Bank & Yahoo Finance."
      ],
      "metadata": {
        "id": "P_Syz8TQUpY8"
      }
    },
    {
      "cell_type": "code",
      "execution_count": null,
      "metadata": {
        "id": "hDjfyC-UhV99"
      },
      "outputs": [],
      "source": [
        "import pandas_datareader as pdr\n",
        "import pandas as pd\n",
        "import matplotlib.pyplot as plt\n",
        "import numpy as np\n",
        "from sklearn.preprocessing import MinMaxScaler\n",
        "from keras.models import Sequential\n",
        "from keras.layers import Dense,LSTM\n",
        "import math\n",
        "from sklearn.metrics import mean_squared_error\n"
      ]
    },
    {
      "cell_type": "markdown",
      "source": [
        "# Data Extraction"
      ],
      "metadata": {
        "id": "jrK5oUB2XJD1"
      }
    },
    {
      "cell_type": "markdown",
      "source": [
        "In this project we use Tiingo api for data extraction and we choose Apple share whose stock market code is AAPL and for data extraction api key is used."
      ],
      "metadata": {
        "id": "r7SW8chPXRkS"
      }
    },
    {
      "cell_type": "code",
      "source": [
        "key=\"3be267047035644feaf9f54cd6153f49ddbe0a33\"\n",
        "df=pdr.get_data_tiingo(\"AAPL\",api_key=key)"
      ],
      "metadata": {
        "colab": {
          "base_uri": "https://localhost:8080/"
        },
        "id": "PKRlWEIWhi04",
        "outputId": "5ca353d9-0574-4a6b-f7c4-6cc60d414084"
      },
      "execution_count": null,
      "outputs": [
        {
          "output_type": "stream",
          "name": "stderr",
          "text": [
            "<ipython-input-3-867ca8c83fe6>:2: FutureWarning: In a future version of pandas all arguments of concat except for the argument 'objs' will be keyword-only.\n",
            "  df=pdr.get_data_tiingo(\"AAPL\",api_key=key)\n"
          ]
        }
      ]
    },
    {
      "cell_type": "code",
      "source": [
        "'''Converting dataframe into csv file for further usage'''\n",
        "df.to_csv('AAPL.csv')"
      ],
      "metadata": {
        "id": "0MoIsy3ziQU9"
      },
      "execution_count": null,
      "outputs": []
    },
    {
      "cell_type": "code",
      "source": [
        "'''Reading from csv file'''\n",
        "df=pd.read_csv(\"AAPL.csv\")\n",
        "df.head(5)"
      ],
      "metadata": {
        "colab": {
          "base_uri": "https://localhost:8080/",
          "height": 313
        },
        "id": "PV27yBX7iYcy",
        "outputId": "c5c8df09-d422-4ed7-b562-ae51f197c876"
      },
      "execution_count": null,
      "outputs": [
        {
          "output_type": "execute_result",
          "data": {
            "text/plain": [
              "  symbol                       date   close    high     low    open    volume  \\\n",
              "0   AAPL  2019-02-04 00:00:00+00:00  171.25  171.66  167.28  167.41  31495582   \n",
              "1   AAPL  2019-02-05 00:00:00+00:00  174.18  175.08  172.35  172.86  36101628   \n",
              "2   AAPL  2019-02-06 00:00:00+00:00  174.24  175.57  172.85  174.65  28239591   \n",
              "3   AAPL  2019-02-07 00:00:00+00:00  170.94  173.94  170.34  172.40  31741690   \n",
              "4   AAPL  2019-02-08 00:00:00+00:00  170.41  170.66  168.42  168.99  23819966   \n",
              "\n",
              "    adjClose    adjHigh     adjLow    adjOpen  adjVolume  divCash  splitFactor  \n",
              "0  41.090613  41.188990  40.138031  40.169223  125982328     0.00          1.0  \n",
              "1  41.793652  42.009603  41.354553  41.476925  144406512     0.00          1.0  \n",
              "2  41.808049  42.127176  41.474525  41.906427  112958364     0.00          1.0  \n",
              "3  41.016230  41.736066  40.872263  41.366550  126966760     0.00          1.0  \n",
              "4  41.064219  41.124462  40.584683  40.722037   95279864     0.73          1.0  "
            ],
            "text/html": [
              "\n",
              "  <div id=\"df-a8b5eded-85ba-40e3-ae0b-8fa3a046cb1e\" class=\"colab-df-container\">\n",
              "    <div>\n",
              "<style scoped>\n",
              "    .dataframe tbody tr th:only-of-type {\n",
              "        vertical-align: middle;\n",
              "    }\n",
              "\n",
              "    .dataframe tbody tr th {\n",
              "        vertical-align: top;\n",
              "    }\n",
              "\n",
              "    .dataframe thead th {\n",
              "        text-align: right;\n",
              "    }\n",
              "</style>\n",
              "<table border=\"1\" class=\"dataframe\">\n",
              "  <thead>\n",
              "    <tr style=\"text-align: right;\">\n",
              "      <th></th>\n",
              "      <th>symbol</th>\n",
              "      <th>date</th>\n",
              "      <th>close</th>\n",
              "      <th>high</th>\n",
              "      <th>low</th>\n",
              "      <th>open</th>\n",
              "      <th>volume</th>\n",
              "      <th>adjClose</th>\n",
              "      <th>adjHigh</th>\n",
              "      <th>adjLow</th>\n",
              "      <th>adjOpen</th>\n",
              "      <th>adjVolume</th>\n",
              "      <th>divCash</th>\n",
              "      <th>splitFactor</th>\n",
              "    </tr>\n",
              "  </thead>\n",
              "  <tbody>\n",
              "    <tr>\n",
              "      <th>0</th>\n",
              "      <td>AAPL</td>\n",
              "      <td>2019-02-04 00:00:00+00:00</td>\n",
              "      <td>171.25</td>\n",
              "      <td>171.66</td>\n",
              "      <td>167.28</td>\n",
              "      <td>167.41</td>\n",
              "      <td>31495582</td>\n",
              "      <td>41.090613</td>\n",
              "      <td>41.188990</td>\n",
              "      <td>40.138031</td>\n",
              "      <td>40.169223</td>\n",
              "      <td>125982328</td>\n",
              "      <td>0.00</td>\n",
              "      <td>1.0</td>\n",
              "    </tr>\n",
              "    <tr>\n",
              "      <th>1</th>\n",
              "      <td>AAPL</td>\n",
              "      <td>2019-02-05 00:00:00+00:00</td>\n",
              "      <td>174.18</td>\n",
              "      <td>175.08</td>\n",
              "      <td>172.35</td>\n",
              "      <td>172.86</td>\n",
              "      <td>36101628</td>\n",
              "      <td>41.793652</td>\n",
              "      <td>42.009603</td>\n",
              "      <td>41.354553</td>\n",
              "      <td>41.476925</td>\n",
              "      <td>144406512</td>\n",
              "      <td>0.00</td>\n",
              "      <td>1.0</td>\n",
              "    </tr>\n",
              "    <tr>\n",
              "      <th>2</th>\n",
              "      <td>AAPL</td>\n",
              "      <td>2019-02-06 00:00:00+00:00</td>\n",
              "      <td>174.24</td>\n",
              "      <td>175.57</td>\n",
              "      <td>172.85</td>\n",
              "      <td>174.65</td>\n",
              "      <td>28239591</td>\n",
              "      <td>41.808049</td>\n",
              "      <td>42.127176</td>\n",
              "      <td>41.474525</td>\n",
              "      <td>41.906427</td>\n",
              "      <td>112958364</td>\n",
              "      <td>0.00</td>\n",
              "      <td>1.0</td>\n",
              "    </tr>\n",
              "    <tr>\n",
              "      <th>3</th>\n",
              "      <td>AAPL</td>\n",
              "      <td>2019-02-07 00:00:00+00:00</td>\n",
              "      <td>170.94</td>\n",
              "      <td>173.94</td>\n",
              "      <td>170.34</td>\n",
              "      <td>172.40</td>\n",
              "      <td>31741690</td>\n",
              "      <td>41.016230</td>\n",
              "      <td>41.736066</td>\n",
              "      <td>40.872263</td>\n",
              "      <td>41.366550</td>\n",
              "      <td>126966760</td>\n",
              "      <td>0.00</td>\n",
              "      <td>1.0</td>\n",
              "    </tr>\n",
              "    <tr>\n",
              "      <th>4</th>\n",
              "      <td>AAPL</td>\n",
              "      <td>2019-02-08 00:00:00+00:00</td>\n",
              "      <td>170.41</td>\n",
              "      <td>170.66</td>\n",
              "      <td>168.42</td>\n",
              "      <td>168.99</td>\n",
              "      <td>23819966</td>\n",
              "      <td>41.064219</td>\n",
              "      <td>41.124462</td>\n",
              "      <td>40.584683</td>\n",
              "      <td>40.722037</td>\n",
              "      <td>95279864</td>\n",
              "      <td>0.73</td>\n",
              "      <td>1.0</td>\n",
              "    </tr>\n",
              "  </tbody>\n",
              "</table>\n",
              "</div>\n",
              "    <div class=\"colab-df-buttons\">\n",
              "\n",
              "  <div class=\"colab-df-container\">\n",
              "    <button class=\"colab-df-convert\" onclick=\"convertToInteractive('df-a8b5eded-85ba-40e3-ae0b-8fa3a046cb1e')\"\n",
              "            title=\"Convert this dataframe to an interactive table.\"\n",
              "            style=\"display:none;\">\n",
              "\n",
              "  <svg xmlns=\"http://www.w3.org/2000/svg\" height=\"24px\" viewBox=\"0 -960 960 960\">\n",
              "    <path d=\"M120-120v-720h720v720H120Zm60-500h600v-160H180v160Zm220 220h160v-160H400v160Zm0 220h160v-160H400v160ZM180-400h160v-160H180v160Zm440 0h160v-160H620v160ZM180-180h160v-160H180v160Zm440 0h160v-160H620v160Z\"/>\n",
              "  </svg>\n",
              "    </button>\n",
              "\n",
              "  <style>\n",
              "    .colab-df-container {\n",
              "      display:flex;\n",
              "      gap: 12px;\n",
              "    }\n",
              "\n",
              "    .colab-df-convert {\n",
              "      background-color: #E8F0FE;\n",
              "      border: none;\n",
              "      border-radius: 50%;\n",
              "      cursor: pointer;\n",
              "      display: none;\n",
              "      fill: #1967D2;\n",
              "      height: 32px;\n",
              "      padding: 0 0 0 0;\n",
              "      width: 32px;\n",
              "    }\n",
              "\n",
              "    .colab-df-convert:hover {\n",
              "      background-color: #E2EBFA;\n",
              "      box-shadow: 0px 1px 2px rgba(60, 64, 67, 0.3), 0px 1px 3px 1px rgba(60, 64, 67, 0.15);\n",
              "      fill: #174EA6;\n",
              "    }\n",
              "\n",
              "    .colab-df-buttons div {\n",
              "      margin-bottom: 4px;\n",
              "    }\n",
              "\n",
              "    [theme=dark] .colab-df-convert {\n",
              "      background-color: #3B4455;\n",
              "      fill: #D2E3FC;\n",
              "    }\n",
              "\n",
              "    [theme=dark] .colab-df-convert:hover {\n",
              "      background-color: #434B5C;\n",
              "      box-shadow: 0px 1px 3px 1px rgba(0, 0, 0, 0.15);\n",
              "      filter: drop-shadow(0px 1px 2px rgba(0, 0, 0, 0.3));\n",
              "      fill: #FFFFFF;\n",
              "    }\n",
              "  </style>\n",
              "\n",
              "    <script>\n",
              "      const buttonEl =\n",
              "        document.querySelector('#df-a8b5eded-85ba-40e3-ae0b-8fa3a046cb1e button.colab-df-convert');\n",
              "      buttonEl.style.display =\n",
              "        google.colab.kernel.accessAllowed ? 'block' : 'none';\n",
              "\n",
              "      async function convertToInteractive(key) {\n",
              "        const element = document.querySelector('#df-a8b5eded-85ba-40e3-ae0b-8fa3a046cb1e');\n",
              "        const dataTable =\n",
              "          await google.colab.kernel.invokeFunction('convertToInteractive',\n",
              "                                                    [key], {});\n",
              "        if (!dataTable) return;\n",
              "\n",
              "        const docLinkHtml = 'Like what you see? Visit the ' +\n",
              "          '<a target=\"_blank\" href=https://colab.research.google.com/notebooks/data_table.ipynb>data table notebook</a>'\n",
              "          + ' to learn more about interactive tables.';\n",
              "        element.innerHTML = '';\n",
              "        dataTable['output_type'] = 'display_data';\n",
              "        await google.colab.output.renderOutput(dataTable, element);\n",
              "        const docLink = document.createElement('div');\n",
              "        docLink.innerHTML = docLinkHtml;\n",
              "        element.appendChild(docLink);\n",
              "      }\n",
              "    </script>\n",
              "  </div>\n",
              "\n",
              "\n",
              "<div id=\"df-121a58ea-a78b-4b12-998f-78ae976ab2a0\">\n",
              "  <button class=\"colab-df-quickchart\" onclick=\"quickchart('df-121a58ea-a78b-4b12-998f-78ae976ab2a0')\"\n",
              "            title=\"Suggest charts\"\n",
              "            style=\"display:none;\">\n",
              "\n",
              "<svg xmlns=\"http://www.w3.org/2000/svg\" height=\"24px\"viewBox=\"0 0 24 24\"\n",
              "     width=\"24px\">\n",
              "    <g>\n",
              "        <path d=\"M19 3H5c-1.1 0-2 .9-2 2v14c0 1.1.9 2 2 2h14c1.1 0 2-.9 2-2V5c0-1.1-.9-2-2-2zM9 17H7v-7h2v7zm4 0h-2V7h2v10zm4 0h-2v-4h2v4z\"/>\n",
              "    </g>\n",
              "</svg>\n",
              "  </button>\n",
              "\n",
              "<style>\n",
              "  .colab-df-quickchart {\n",
              "      --bg-color: #E8F0FE;\n",
              "      --fill-color: #1967D2;\n",
              "      --hover-bg-color: #E2EBFA;\n",
              "      --hover-fill-color: #174EA6;\n",
              "      --disabled-fill-color: #AAA;\n",
              "      --disabled-bg-color: #DDD;\n",
              "  }\n",
              "\n",
              "  [theme=dark] .colab-df-quickchart {\n",
              "      --bg-color: #3B4455;\n",
              "      --fill-color: #D2E3FC;\n",
              "      --hover-bg-color: #434B5C;\n",
              "      --hover-fill-color: #FFFFFF;\n",
              "      --disabled-bg-color: #3B4455;\n",
              "      --disabled-fill-color: #666;\n",
              "  }\n",
              "\n",
              "  .colab-df-quickchart {\n",
              "    background-color: var(--bg-color);\n",
              "    border: none;\n",
              "    border-radius: 50%;\n",
              "    cursor: pointer;\n",
              "    display: none;\n",
              "    fill: var(--fill-color);\n",
              "    height: 32px;\n",
              "    padding: 0;\n",
              "    width: 32px;\n",
              "  }\n",
              "\n",
              "  .colab-df-quickchart:hover {\n",
              "    background-color: var(--hover-bg-color);\n",
              "    box-shadow: 0 1px 2px rgba(60, 64, 67, 0.3), 0 1px 3px 1px rgba(60, 64, 67, 0.15);\n",
              "    fill: var(--button-hover-fill-color);\n",
              "  }\n",
              "\n",
              "  .colab-df-quickchart-complete:disabled,\n",
              "  .colab-df-quickchart-complete:disabled:hover {\n",
              "    background-color: var(--disabled-bg-color);\n",
              "    fill: var(--disabled-fill-color);\n",
              "    box-shadow: none;\n",
              "  }\n",
              "\n",
              "  .colab-df-spinner {\n",
              "    border: 2px solid var(--fill-color);\n",
              "    border-color: transparent;\n",
              "    border-bottom-color: var(--fill-color);\n",
              "    animation:\n",
              "      spin 1s steps(1) infinite;\n",
              "  }\n",
              "\n",
              "  @keyframes spin {\n",
              "    0% {\n",
              "      border-color: transparent;\n",
              "      border-bottom-color: var(--fill-color);\n",
              "      border-left-color: var(--fill-color);\n",
              "    }\n",
              "    20% {\n",
              "      border-color: transparent;\n",
              "      border-left-color: var(--fill-color);\n",
              "      border-top-color: var(--fill-color);\n",
              "    }\n",
              "    30% {\n",
              "      border-color: transparent;\n",
              "      border-left-color: var(--fill-color);\n",
              "      border-top-color: var(--fill-color);\n",
              "      border-right-color: var(--fill-color);\n",
              "    }\n",
              "    40% {\n",
              "      border-color: transparent;\n",
              "      border-right-color: var(--fill-color);\n",
              "      border-top-color: var(--fill-color);\n",
              "    }\n",
              "    60% {\n",
              "      border-color: transparent;\n",
              "      border-right-color: var(--fill-color);\n",
              "    }\n",
              "    80% {\n",
              "      border-color: transparent;\n",
              "      border-right-color: var(--fill-color);\n",
              "      border-bottom-color: var(--fill-color);\n",
              "    }\n",
              "    90% {\n",
              "      border-color: transparent;\n",
              "      border-bottom-color: var(--fill-color);\n",
              "    }\n",
              "  }\n",
              "</style>\n",
              "\n",
              "  <script>\n",
              "    async function quickchart(key) {\n",
              "      const quickchartButtonEl =\n",
              "        document.querySelector('#' + key + ' button');\n",
              "      quickchartButtonEl.disabled = true;  // To prevent multiple clicks.\n",
              "      quickchartButtonEl.classList.add('colab-df-spinner');\n",
              "      try {\n",
              "        const charts = await google.colab.kernel.invokeFunction(\n",
              "            'suggestCharts', [key], {});\n",
              "      } catch (error) {\n",
              "        console.error('Error during call to suggestCharts:', error);\n",
              "      }\n",
              "      quickchartButtonEl.classList.remove('colab-df-spinner');\n",
              "      quickchartButtonEl.classList.add('colab-df-quickchart-complete');\n",
              "    }\n",
              "    (() => {\n",
              "      let quickchartButtonEl =\n",
              "        document.querySelector('#df-121a58ea-a78b-4b12-998f-78ae976ab2a0 button');\n",
              "      quickchartButtonEl.style.display =\n",
              "        google.colab.kernel.accessAllowed ? 'block' : 'none';\n",
              "    })();\n",
              "  </script>\n",
              "</div>\n",
              "\n",
              "    </div>\n",
              "  </div>\n"
            ]
          },
          "metadata": {},
          "execution_count": 5
        }
      ]
    },
    {
      "cell_type": "code",
      "source": [
        "df.tail()"
      ],
      "metadata": {
        "colab": {
          "base_uri": "https://localhost:8080/",
          "height": 313
        },
        "id": "C50eO9rXi0sf",
        "outputId": "8738021f-d13c-4751-dad8-2c1e3eaab0c7"
      },
      "execution_count": null,
      "outputs": [
        {
          "output_type": "execute_result",
          "data": {
            "text/plain": [
              "     symbol                       date   close      high       low    open  \\\n",
              "1252   AAPL  2024-01-25 00:00:00+00:00  194.17  196.2675  193.1125  195.22   \n",
              "1253   AAPL  2024-01-26 00:00:00+00:00  192.42  194.7600  191.9400  194.27   \n",
              "1254   AAPL  2024-01-29 00:00:00+00:00  191.73  192.2000  189.5800  192.01   \n",
              "1255   AAPL  2024-01-30 00:00:00+00:00  188.04  191.8000  187.4700  190.94   \n",
              "1256   AAPL  2024-01-31 00:00:00+00:00  184.40  187.0950  184.3500  187.04   \n",
              "\n",
              "        volume  adjClose   adjHigh    adjLow  adjOpen  adjVolume  divCash  \\\n",
              "1252  54822126    194.17  196.2675  193.1125   195.22   54822126      0.0   \n",
              "1253  44594011    192.42  194.7600  191.9400   194.27   44594011      0.0   \n",
              "1254  47145622    191.73  192.2000  189.5800   192.01   47145622      0.0   \n",
              "1255  55859370    188.04  191.8000  187.4700   190.94   55859370      0.0   \n",
              "1256  55467803    184.40  187.0950  184.3500   187.04   55467803      0.0   \n",
              "\n",
              "      splitFactor  \n",
              "1252          1.0  \n",
              "1253          1.0  \n",
              "1254          1.0  \n",
              "1255          1.0  \n",
              "1256          1.0  "
            ],
            "text/html": [
              "\n",
              "  <div id=\"df-cf32e7a5-34c5-4477-9c1a-c41f795b1955\" class=\"colab-df-container\">\n",
              "    <div>\n",
              "<style scoped>\n",
              "    .dataframe tbody tr th:only-of-type {\n",
              "        vertical-align: middle;\n",
              "    }\n",
              "\n",
              "    .dataframe tbody tr th {\n",
              "        vertical-align: top;\n",
              "    }\n",
              "\n",
              "    .dataframe thead th {\n",
              "        text-align: right;\n",
              "    }\n",
              "</style>\n",
              "<table border=\"1\" class=\"dataframe\">\n",
              "  <thead>\n",
              "    <tr style=\"text-align: right;\">\n",
              "      <th></th>\n",
              "      <th>symbol</th>\n",
              "      <th>date</th>\n",
              "      <th>close</th>\n",
              "      <th>high</th>\n",
              "      <th>low</th>\n",
              "      <th>open</th>\n",
              "      <th>volume</th>\n",
              "      <th>adjClose</th>\n",
              "      <th>adjHigh</th>\n",
              "      <th>adjLow</th>\n",
              "      <th>adjOpen</th>\n",
              "      <th>adjVolume</th>\n",
              "      <th>divCash</th>\n",
              "      <th>splitFactor</th>\n",
              "    </tr>\n",
              "  </thead>\n",
              "  <tbody>\n",
              "    <tr>\n",
              "      <th>1252</th>\n",
              "      <td>AAPL</td>\n",
              "      <td>2024-01-25 00:00:00+00:00</td>\n",
              "      <td>194.17</td>\n",
              "      <td>196.2675</td>\n",
              "      <td>193.1125</td>\n",
              "      <td>195.22</td>\n",
              "      <td>54822126</td>\n",
              "      <td>194.17</td>\n",
              "      <td>196.2675</td>\n",
              "      <td>193.1125</td>\n",
              "      <td>195.22</td>\n",
              "      <td>54822126</td>\n",
              "      <td>0.0</td>\n",
              "      <td>1.0</td>\n",
              "    </tr>\n",
              "    <tr>\n",
              "      <th>1253</th>\n",
              "      <td>AAPL</td>\n",
              "      <td>2024-01-26 00:00:00+00:00</td>\n",
              "      <td>192.42</td>\n",
              "      <td>194.7600</td>\n",
              "      <td>191.9400</td>\n",
              "      <td>194.27</td>\n",
              "      <td>44594011</td>\n",
              "      <td>192.42</td>\n",
              "      <td>194.7600</td>\n",
              "      <td>191.9400</td>\n",
              "      <td>194.27</td>\n",
              "      <td>44594011</td>\n",
              "      <td>0.0</td>\n",
              "      <td>1.0</td>\n",
              "    </tr>\n",
              "    <tr>\n",
              "      <th>1254</th>\n",
              "      <td>AAPL</td>\n",
              "      <td>2024-01-29 00:00:00+00:00</td>\n",
              "      <td>191.73</td>\n",
              "      <td>192.2000</td>\n",
              "      <td>189.5800</td>\n",
              "      <td>192.01</td>\n",
              "      <td>47145622</td>\n",
              "      <td>191.73</td>\n",
              "      <td>192.2000</td>\n",
              "      <td>189.5800</td>\n",
              "      <td>192.01</td>\n",
              "      <td>47145622</td>\n",
              "      <td>0.0</td>\n",
              "      <td>1.0</td>\n",
              "    </tr>\n",
              "    <tr>\n",
              "      <th>1255</th>\n",
              "      <td>AAPL</td>\n",
              "      <td>2024-01-30 00:00:00+00:00</td>\n",
              "      <td>188.04</td>\n",
              "      <td>191.8000</td>\n",
              "      <td>187.4700</td>\n",
              "      <td>190.94</td>\n",
              "      <td>55859370</td>\n",
              "      <td>188.04</td>\n",
              "      <td>191.8000</td>\n",
              "      <td>187.4700</td>\n",
              "      <td>190.94</td>\n",
              "      <td>55859370</td>\n",
              "      <td>0.0</td>\n",
              "      <td>1.0</td>\n",
              "    </tr>\n",
              "    <tr>\n",
              "      <th>1256</th>\n",
              "      <td>AAPL</td>\n",
              "      <td>2024-01-31 00:00:00+00:00</td>\n",
              "      <td>184.40</td>\n",
              "      <td>187.0950</td>\n",
              "      <td>184.3500</td>\n",
              "      <td>187.04</td>\n",
              "      <td>55467803</td>\n",
              "      <td>184.40</td>\n",
              "      <td>187.0950</td>\n",
              "      <td>184.3500</td>\n",
              "      <td>187.04</td>\n",
              "      <td>55467803</td>\n",
              "      <td>0.0</td>\n",
              "      <td>1.0</td>\n",
              "    </tr>\n",
              "  </tbody>\n",
              "</table>\n",
              "</div>\n",
              "    <div class=\"colab-df-buttons\">\n",
              "\n",
              "  <div class=\"colab-df-container\">\n",
              "    <button class=\"colab-df-convert\" onclick=\"convertToInteractive('df-cf32e7a5-34c5-4477-9c1a-c41f795b1955')\"\n",
              "            title=\"Convert this dataframe to an interactive table.\"\n",
              "            style=\"display:none;\">\n",
              "\n",
              "  <svg xmlns=\"http://www.w3.org/2000/svg\" height=\"24px\" viewBox=\"0 -960 960 960\">\n",
              "    <path d=\"M120-120v-720h720v720H120Zm60-500h600v-160H180v160Zm220 220h160v-160H400v160Zm0 220h160v-160H400v160ZM180-400h160v-160H180v160Zm440 0h160v-160H620v160ZM180-180h160v-160H180v160Zm440 0h160v-160H620v160Z\"/>\n",
              "  </svg>\n",
              "    </button>\n",
              "\n",
              "  <style>\n",
              "    .colab-df-container {\n",
              "      display:flex;\n",
              "      gap: 12px;\n",
              "    }\n",
              "\n",
              "    .colab-df-convert {\n",
              "      background-color: #E8F0FE;\n",
              "      border: none;\n",
              "      border-radius: 50%;\n",
              "      cursor: pointer;\n",
              "      display: none;\n",
              "      fill: #1967D2;\n",
              "      height: 32px;\n",
              "      padding: 0 0 0 0;\n",
              "      width: 32px;\n",
              "    }\n",
              "\n",
              "    .colab-df-convert:hover {\n",
              "      background-color: #E2EBFA;\n",
              "      box-shadow: 0px 1px 2px rgba(60, 64, 67, 0.3), 0px 1px 3px 1px rgba(60, 64, 67, 0.15);\n",
              "      fill: #174EA6;\n",
              "    }\n",
              "\n",
              "    .colab-df-buttons div {\n",
              "      margin-bottom: 4px;\n",
              "    }\n",
              "\n",
              "    [theme=dark] .colab-df-convert {\n",
              "      background-color: #3B4455;\n",
              "      fill: #D2E3FC;\n",
              "    }\n",
              "\n",
              "    [theme=dark] .colab-df-convert:hover {\n",
              "      background-color: #434B5C;\n",
              "      box-shadow: 0px 1px 3px 1px rgba(0, 0, 0, 0.15);\n",
              "      filter: drop-shadow(0px 1px 2px rgba(0, 0, 0, 0.3));\n",
              "      fill: #FFFFFF;\n",
              "    }\n",
              "  </style>\n",
              "\n",
              "    <script>\n",
              "      const buttonEl =\n",
              "        document.querySelector('#df-cf32e7a5-34c5-4477-9c1a-c41f795b1955 button.colab-df-convert');\n",
              "      buttonEl.style.display =\n",
              "        google.colab.kernel.accessAllowed ? 'block' : 'none';\n",
              "\n",
              "      async function convertToInteractive(key) {\n",
              "        const element = document.querySelector('#df-cf32e7a5-34c5-4477-9c1a-c41f795b1955');\n",
              "        const dataTable =\n",
              "          await google.colab.kernel.invokeFunction('convertToInteractive',\n",
              "                                                    [key], {});\n",
              "        if (!dataTable) return;\n",
              "\n",
              "        const docLinkHtml = 'Like what you see? Visit the ' +\n",
              "          '<a target=\"_blank\" href=https://colab.research.google.com/notebooks/data_table.ipynb>data table notebook</a>'\n",
              "          + ' to learn more about interactive tables.';\n",
              "        element.innerHTML = '';\n",
              "        dataTable['output_type'] = 'display_data';\n",
              "        await google.colab.output.renderOutput(dataTable, element);\n",
              "        const docLink = document.createElement('div');\n",
              "        docLink.innerHTML = docLinkHtml;\n",
              "        element.appendChild(docLink);\n",
              "      }\n",
              "    </script>\n",
              "  </div>\n",
              "\n",
              "\n",
              "<div id=\"df-59e57a2c-9598-4586-a4cd-94e550450d2e\">\n",
              "  <button class=\"colab-df-quickchart\" onclick=\"quickchart('df-59e57a2c-9598-4586-a4cd-94e550450d2e')\"\n",
              "            title=\"Suggest charts\"\n",
              "            style=\"display:none;\">\n",
              "\n",
              "<svg xmlns=\"http://www.w3.org/2000/svg\" height=\"24px\"viewBox=\"0 0 24 24\"\n",
              "     width=\"24px\">\n",
              "    <g>\n",
              "        <path d=\"M19 3H5c-1.1 0-2 .9-2 2v14c0 1.1.9 2 2 2h14c1.1 0 2-.9 2-2V5c0-1.1-.9-2-2-2zM9 17H7v-7h2v7zm4 0h-2V7h2v10zm4 0h-2v-4h2v4z\"/>\n",
              "    </g>\n",
              "</svg>\n",
              "  </button>\n",
              "\n",
              "<style>\n",
              "  .colab-df-quickchart {\n",
              "      --bg-color: #E8F0FE;\n",
              "      --fill-color: #1967D2;\n",
              "      --hover-bg-color: #E2EBFA;\n",
              "      --hover-fill-color: #174EA6;\n",
              "      --disabled-fill-color: #AAA;\n",
              "      --disabled-bg-color: #DDD;\n",
              "  }\n",
              "\n",
              "  [theme=dark] .colab-df-quickchart {\n",
              "      --bg-color: #3B4455;\n",
              "      --fill-color: #D2E3FC;\n",
              "      --hover-bg-color: #434B5C;\n",
              "      --hover-fill-color: #FFFFFF;\n",
              "      --disabled-bg-color: #3B4455;\n",
              "      --disabled-fill-color: #666;\n",
              "  }\n",
              "\n",
              "  .colab-df-quickchart {\n",
              "    background-color: var(--bg-color);\n",
              "    border: none;\n",
              "    border-radius: 50%;\n",
              "    cursor: pointer;\n",
              "    display: none;\n",
              "    fill: var(--fill-color);\n",
              "    height: 32px;\n",
              "    padding: 0;\n",
              "    width: 32px;\n",
              "  }\n",
              "\n",
              "  .colab-df-quickchart:hover {\n",
              "    background-color: var(--hover-bg-color);\n",
              "    box-shadow: 0 1px 2px rgba(60, 64, 67, 0.3), 0 1px 3px 1px rgba(60, 64, 67, 0.15);\n",
              "    fill: var(--button-hover-fill-color);\n",
              "  }\n",
              "\n",
              "  .colab-df-quickchart-complete:disabled,\n",
              "  .colab-df-quickchart-complete:disabled:hover {\n",
              "    background-color: var(--disabled-bg-color);\n",
              "    fill: var(--disabled-fill-color);\n",
              "    box-shadow: none;\n",
              "  }\n",
              "\n",
              "  .colab-df-spinner {\n",
              "    border: 2px solid var(--fill-color);\n",
              "    border-color: transparent;\n",
              "    border-bottom-color: var(--fill-color);\n",
              "    animation:\n",
              "      spin 1s steps(1) infinite;\n",
              "  }\n",
              "\n",
              "  @keyframes spin {\n",
              "    0% {\n",
              "      border-color: transparent;\n",
              "      border-bottom-color: var(--fill-color);\n",
              "      border-left-color: var(--fill-color);\n",
              "    }\n",
              "    20% {\n",
              "      border-color: transparent;\n",
              "      border-left-color: var(--fill-color);\n",
              "      border-top-color: var(--fill-color);\n",
              "    }\n",
              "    30% {\n",
              "      border-color: transparent;\n",
              "      border-left-color: var(--fill-color);\n",
              "      border-top-color: var(--fill-color);\n",
              "      border-right-color: var(--fill-color);\n",
              "    }\n",
              "    40% {\n",
              "      border-color: transparent;\n",
              "      border-right-color: var(--fill-color);\n",
              "      border-top-color: var(--fill-color);\n",
              "    }\n",
              "    60% {\n",
              "      border-color: transparent;\n",
              "      border-right-color: var(--fill-color);\n",
              "    }\n",
              "    80% {\n",
              "      border-color: transparent;\n",
              "      border-right-color: var(--fill-color);\n",
              "      border-bottom-color: var(--fill-color);\n",
              "    }\n",
              "    90% {\n",
              "      border-color: transparent;\n",
              "      border-bottom-color: var(--fill-color);\n",
              "    }\n",
              "  }\n",
              "</style>\n",
              "\n",
              "  <script>\n",
              "    async function quickchart(key) {\n",
              "      const quickchartButtonEl =\n",
              "        document.querySelector('#' + key + ' button');\n",
              "      quickchartButtonEl.disabled = true;  // To prevent multiple clicks.\n",
              "      quickchartButtonEl.classList.add('colab-df-spinner');\n",
              "      try {\n",
              "        const charts = await google.colab.kernel.invokeFunction(\n",
              "            'suggestCharts', [key], {});\n",
              "      } catch (error) {\n",
              "        console.error('Error during call to suggestCharts:', error);\n",
              "      }\n",
              "      quickchartButtonEl.classList.remove('colab-df-spinner');\n",
              "      quickchartButtonEl.classList.add('colab-df-quickchart-complete');\n",
              "    }\n",
              "    (() => {\n",
              "      let quickchartButtonEl =\n",
              "        document.querySelector('#df-59e57a2c-9598-4586-a4cd-94e550450d2e button');\n",
              "      quickchartButtonEl.style.display =\n",
              "        google.colab.kernel.accessAllowed ? 'block' : 'none';\n",
              "    })();\n",
              "  </script>\n",
              "</div>\n",
              "\n",
              "    </div>\n",
              "  </div>\n"
            ]
          },
          "metadata": {},
          "execution_count": 6
        }
      ]
    },
    {
      "cell_type": "markdown",
      "source": [],
      "metadata": {
        "id": "oKp1HbciZQTR"
      }
    },
    {
      "cell_type": "markdown",
      "source": [
        "# Preprocessing & Data Visualization\n"
      ],
      "metadata": {
        "id": "MyDy1a5_ZRAB"
      }
    },
    {
      "cell_type": "markdown",
      "source": [
        "Here we choose closing price for prediction. So we create a set which only include closing values for the respective stock."
      ],
      "metadata": {
        "id": "Fwmds0H3Zefi"
      }
    },
    {
      "cell_type": "code",
      "source": [
        "closing_set=df['close']\n",
        "closing_set.shape"
      ],
      "metadata": {
        "colab": {
          "base_uri": "https://localhost:8080/"
        },
        "id": "uUL_NFwpjHEy",
        "outputId": "82233313-9c6f-404f-fd13-eacbcdcb8e65"
      },
      "execution_count": null,
      "outputs": [
        {
          "output_type": "execute_result",
          "data": {
            "text/plain": [
              "(1257,)"
            ]
          },
          "metadata": {},
          "execution_count": 7
        }
      ]
    },
    {
      "cell_type": "code",
      "source": [
        "'''Plot the chart based on closing value of apple stock'''\n",
        "plt.plot(closing_set)"
      ],
      "metadata": {
        "colab": {
          "base_uri": "https://localhost:8080/",
          "height": 447
        },
        "id": "_cq3UM4pjiez",
        "outputId": "ef2a6acb-cbd8-475c-c80f-6615abf6872d"
      },
      "execution_count": null,
      "outputs": [
        {
          "output_type": "execute_result",
          "data": {
            "text/plain": [
              "[<matplotlib.lines.Line2D at 0x7b6071982110>]"
            ]
          },
          "metadata": {},
          "execution_count": 8
        },
        {
          "output_type": "display_data",
          "data": {
            "text/plain": [
              "<Figure size 640x480 with 1 Axes>"
            ],
            "image/png": "[encoded data removed]"
          },
          "metadata": {}
        }
      ]
    },
    {
      "cell_type": "markdown",
      "source": [
        "Transform features by scaling each feature to a given range.\n",
        "\n",
        "This estimator scales and translates each feature individually such that it is in the given range on the training set, e.g. between zero and one.\n",
        "\n",
        "The transformation is given by:\n",
        "\n",
        "X_std = (X - X.min(axis=0)) / (X.max(axis=0) - X.min(axis=0))\n",
        "\n",
        "X_scaled = X_std * (max - min) + min\n",
        "where min, max = feature_range.\n",
        "\n",
        "This transformation is often used as an alternative to zero mean, unit variance scaling.\n",
        "\n",
        "MinMaxScaler doesn’t reduce the effect of outliers, but it linearly scales them down into a fixed range, where the largest occurring data point corresponds to the maximum value and the smallest one corresponds to the minimum value."
      ],
      "metadata": {
        "id": "Gk6IM48UbVb1"
      }
    },
    {
      "cell_type": "code",
      "source": [
        "scaler=MinMaxScaler(feature_range=(0,1))\n",
        "closing_set=scaler.fit_transform(np.array(closing_set).reshape(-1,1))"
      ],
      "metadata": {
        "id": "0olwdVGUjv50"
      },
      "execution_count": null,
      "outputs": []
    },
    {
      "cell_type": "code",
      "source": [
        "'''Analyzing the shape after reshaping'''\n",
        "closing_set.shape"
      ],
      "metadata": {
        "colab": {
          "base_uri": "https://localhost:8080/"
        },
        "id": "LwP4cBFFmo2J",
        "outputId": "eab40208-d798-4790-cd15-bf08e0157147"
      },
      "execution_count": null,
      "outputs": [
        {
          "output_type": "execute_result",
          "data": {
            "text/plain": [
              "(1257, 1)"
            ]
          },
          "metadata": {},
          "execution_count": 10
        }
      ]
    },
    {
      "cell_type": "code",
      "source": [
        "'''Scaled data'''\n",
        "closing_set"
      ],
      "metadata": {
        "colab": {
          "base_uri": "https://localhost:8080/"
        },
        "id": "1PVmrLOPkzT7",
        "outputId": "b1d3c74e-0019-4b62-b2dc-360dcc223a10"
      },
      "execution_count": null,
      "outputs": [
        {
          "output_type": "execute_result",
          "data": {
            "text/plain": [
              "array([[0.16132749],\n",
              "       [0.16866625],\n",
              "       [0.16881653],\n",
              "       ...,\n",
              "       [0.21262367],\n",
              "       [0.20338134],\n",
              "       [0.19426425]])"
            ]
          },
          "metadata": {},
          "execution_count": 11
        }
      ]
    },
    {
      "cell_type": "markdown",
      "source": [
        "Here we chose train size is 0.65 based on that we create training size and test size. Train data and test data divided from closing set based on training size and test size."
      ],
      "metadata": {
        "id": "1-dPtE2vcBMZ"
      }
    },
    {
      "cell_type": "code",
      "source": [
        "training_size=int(len(closing_set)*0.65)\n",
        "test_size=len(closing_set)-training_size\n",
        "train_data,test_data=closing_set[0:training_size,:1],closing_set[training_size:len(closing_set),:1]"
      ],
      "metadata": {
        "id": "yJm1vL0Ik1jn"
      },
      "execution_count": null,
      "outputs": []
    },
    {
      "cell_type": "code",
      "source": [
        "'''Checking training and testing size'''\n",
        "training_size,test_size"
      ],
      "metadata": {
        "colab": {
          "base_uri": "https://localhost:8080/"
        },
        "id": "x9x_8BjBmfPF",
        "outputId": "20da0411-3dd7-478e-f0f9-07be121e5eba"
      },
      "execution_count": null,
      "outputs": [
        {
          "output_type": "execute_result",
          "data": {
            "text/plain": [
              "(817, 440)"
            ]
          },
          "metadata": {},
          "execution_count": 13
        }
      ]
    },
    {
      "cell_type": "code",
      "source": [
        "'''Checking train data shape'''\n",
        "train_data.shape"
      ],
      "metadata": {
        "colab": {
          "base_uri": "https://localhost:8080/"
        },
        "id": "oKSue18emkdA",
        "outputId": "6fc80edc-cd31-4946-d4a8-e50fb08e6ced"
      },
      "execution_count": null,
      "outputs": [
        {
          "output_type": "execute_result",
          "data": {
            "text/plain": [
              "(817, 1)"
            ]
          },
          "metadata": {},
          "execution_count": 37
        }
      ]
    },
    {
      "cell_type": "markdown",
      "source": [
        "We’ll create our training data by creating sequences of stock prices and their corresponding labels. Each sequence will contain the stock prices of the previous 100 days."
      ],
      "metadata": {
        "id": "AB1H6ptjeSBS"
      }
    },
    {
      "cell_type": "code",
      "source": [
        "def create_dataset(dataset,time_step=1):\n",
        "  dataX,dataY=[],[]\n",
        "  for i in range(len(dataset)-time_step-1):\n",
        "    a=dataset[i:(i+time_step),0]\n",
        "    dataX.append(a)\n",
        "    dataY.append(dataset[i + time_step,0])\n",
        "  return np.array(dataX),np.array(dataY)"
      ],
      "metadata": {
        "id": "GrJV2Ce9m0t_"
      },
      "execution_count": null,
      "outputs": []
    },
    {
      "cell_type": "code",
      "source": [
        "time_step=100\n",
        "x_train,y_train=create_dataset(train_data,time_step)\n",
        "x_test,y_test=create_dataset(test_data,time_step)"
      ],
      "metadata": {
        "id": "utiW-dzJo6e-"
      },
      "execution_count": null,
      "outputs": []
    },
    {
      "cell_type": "code",
      "source": [
        "print(x_train)\n",
        "x_train.shape,y_train.shape"
      ],
      "metadata": {
        "colab": {
          "base_uri": "https://localhost:8080/"
        },
        "id": "-ETRdziEpdMe",
        "outputId": "d4964ece-2aef-4a81-d753-b9653997b488"
      },
      "execution_count": null,
      "outputs": [
        {
          "output_type": "stream",
          "name": "stdout",
          "text": [
            "[[0.16132749 0.16866625 0.16881653 ... 0.22978084 0.2222417  0.23283657]\n",
            " [0.16866625 0.16881653 0.16055103 ... 0.2222417  0.23283657 0.23268629]\n",
            " [0.16881653 0.16055103 0.15922354 ... 0.23283657 0.23268629 0.22812774]\n",
            " ...\n",
            " [0.14509706 0.14256731 0.1377583  ... 0.14922981 0.13763306 0.14036318]\n",
            " [0.14256731 0.1377583  0.14647464 ... 0.13763306 0.14036318 0.12513463]\n",
            " [0.1377583  0.14647464 0.16115216 ... 0.14036318 0.12513463 0.12455855]]\n"
          ]
        },
        {
          "output_type": "execute_result",
          "data": {
            "text/plain": [
              "((716, 100), (716,))"
            ]
          },
          "metadata": {},
          "execution_count": 17
        }
      ]
    },
    {
      "cell_type": "code",
      "source": [
        "'''Resahping train and test data to 3 dimensional for applying model'''\n",
        "x_train=x_train.reshape(x_train.shape[0],x_train.shape[1],1)\n",
        "x_test=x_test.reshape(x_test.shape[0],x_test.shape[1],1)"
      ],
      "metadata": {
        "id": "2Ofoo6MVpgoV"
      },
      "execution_count": null,
      "outputs": []
    },
    {
      "cell_type": "markdown",
      "source": [
        "# Model Selection & Development\n"
      ],
      "metadata": {
        "id": "hK6gtwSsufVk"
      }
    },
    {
      "cell_type": "markdown",
      "source": [
        "Long Short-Term Memory (LSTM) is a type of computer program that is designed to analyze and understand data that has long-term dependencies. It is often used in analyzing time series data, such as stock market prices. Time series data refers to the sequence of past stock prices and other financial data, and LSTM can use this data to identify patterns and trends that can be used to predict future stock prices. LSTM is particularly useful in analyzing stock market data because it can handle data with multiple input and output timesteps. For example, a company's stock price may be influenced by various factors such as economic indicators, market trends, and company-specific news. These factors may have a direct or indirect impact on the stock price, and the LSTM model is able to capture these relationships and use them to make more accurate predictions. Overall, LSTM and time series analysis can be a powerful tools for investors who want to make informed investment decisions based on the analysis of stock market data"
      ],
      "metadata": {
        "id": "y9pK84CAuquE"
      }
    },
    {
      "cell_type": "code",
      "source": [
        "model=Sequential()\n",
        "model.add(LSTM(50,return_sequences=True,input_shape=(100,1)))\n",
        "model.add(LSTM(50,return_sequences=True))\n",
        "model.add(LSTM(50))\n",
        "model.add(Dense(1))\n"
      ],
      "metadata": {
        "id": "oUgXFnicq6On"
      },
      "execution_count": null,
      "outputs": []
    },
    {
      "cell_type": "code",
      "source": [
        "'''Compiling model'''\n",
        "model.compile(loss='mse',optimizer='adam')"
      ],
      "metadata": {
        "id": "TxJ8H7qYsBx8"
      },
      "execution_count": null,
      "outputs": []
    },
    {
      "cell_type": "code",
      "source": [
        "'''Analyzing model'''\n",
        "model.summary()"
      ],
      "metadata": {
        "colab": {
          "base_uri": "https://localhost:8080/"
        },
        "id": "Ee0_b3JisXp9",
        "outputId": "59057420-9228-4032-e8e2-fa5ddb163504"
      },
      "execution_count": null,
      "outputs": [
        {
          "output_type": "stream",
          "name": "stdout",
          "text": [
            "Model: \"sequential\"\n",
            "_________________________________________________________________\n",
            " Layer (type)                Output Shape              Param #   \n",
            "=================================================================\n",
            " lstm (LSTM)                 (None, 100, 50)           10400     \n",
            "                                                                 \n",
            " lstm_1 (LSTM)               (None, 100, 50)           20200     \n",
            "                                                                 \n",
            " lstm_2 (LSTM)               (None, 50)                20200     \n",
            "                                                                 \n",
            " dense (Dense)               (None, 1)                 51        \n",
            "                                                                 \n",
            "=================================================================\n",
            "Total params: 50851 (198.64 KB)\n",
            "Trainable params: 50851 (198.64 KB)\n",
            "Non-trainable params: 0 (0.00 Byte)\n",
            "_________________________________________________________________\n"
          ]
        }
      ]
    },
    {
      "cell_type": "markdown",
      "source": [
        "# Model Training"
      ],
      "metadata": {
        "id": "slQCsiMAx_Mz"
      }
    },
    {
      "cell_type": "code",
      "source": [
        "model.fit(x_train,y_train,validation_data=(x_test,y_test),epochs=10,batch_size=64,verbose=1)"
      ],
      "metadata": {
        "colab": {
          "base_uri": "https://localhost:8080/"
        },
        "id": "H8hNpM3UscZF",
        "outputId": "c92acef4-08e1-4336-add1-17a21eb3ea3a"
      },
      "execution_count": null,
      "outputs": [
        {
          "output_type": "stream",
          "name": "stdout",
          "text": [
            "Epoch 1/10\n",
            "12/12 [==============================] - 6s 173ms/step - loss: 0.0351 - val_loss: 8.0618e-04\n",
            "Epoch 2/10\n",
            "12/12 [==============================] - 1s 103ms/step - loss: 0.0128 - val_loss: 8.1561e-04\n",
            "Epoch 3/10\n",
            "12/12 [==============================] - 1s 102ms/step - loss: 0.0092 - val_loss: 3.3907e-04\n",
            "Epoch 4/10\n",
            "12/12 [==============================] - 1s 102ms/step - loss: 0.0094 - val_loss: 5.3569e-04\n",
            "Epoch 5/10\n",
            "12/12 [==============================] - 1s 102ms/step - loss: 0.0084 - val_loss: 4.3132e-04\n",
            "Epoch 6/10\n",
            "12/12 [==============================] - 1s 125ms/step - loss: 0.0080 - val_loss: 3.8722e-04\n",
            "Epoch 7/10\n",
            "12/12 [==============================] - 1s 110ms/step - loss: 0.0060 - val_loss: 3.5153e-04\n",
            "Epoch 8/10\n",
            "12/12 [==============================] - 1s 101ms/step - loss: 0.0062 - val_loss: 5.6924e-04\n",
            "Epoch 9/10\n",
            "12/12 [==============================] - 1s 102ms/step - loss: 0.0055 - val_loss: 2.7402e-04\n",
            "Epoch 10/10\n",
            "12/12 [==============================] - 1s 102ms/step - loss: 0.0047 - val_loss: 2.8247e-04\n"
          ]
        },
        {
          "output_type": "execute_result",
          "data": {
            "text/plain": [
              "<keras.src.callbacks.History at 0x7b606c4acac0>"
            ]
          },
          "metadata": {},
          "execution_count": 22
        }
      ]
    },
    {
      "cell_type": "markdown",
      "source": [
        "# Model Evaluation"
      ],
      "metadata": {
        "id": "Azgqa4wSyhfG"
      }
    },
    {
      "cell_type": "code",
      "source": [
        "train_predict=model.predict(x_train)\n",
        "test_predict=model.predict(x_test)"
      ],
      "metadata": {
        "colab": {
          "base_uri": "https://localhost:8080/"
        },
        "id": "n3oX49Eis_hk",
        "outputId": "4af7a52c-c51f-4ef2-ec00-760a846340e5"
      },
      "execution_count": null,
      "outputs": [
        {
          "output_type": "stream",
          "name": "stdout",
          "text": [
            "23/23 [==============================] - 1s 21ms/step\n",
            "11/11 [==============================] - 0s 19ms/step\n"
          ]
        }
      ]
    },
    {
      "cell_type": "code",
      "source": [
        "'''Reverse scaling the predicted values'''\n",
        "train_predict=scaler.inverse_transform(train_predict)\n",
        "test_predict=scaler.inverse_transform(test_predict)"
      ],
      "metadata": {
        "id": "RX8_M5OyttE7"
      },
      "execution_count": null,
      "outputs": []
    },
    {
      "cell_type": "code",
      "source": [
        "'''Calculating root mean square error for train data'''\n",
        "math.sqrt(mean_squared_error(y_train,train_predict))"
      ],
      "metadata": {
        "colab": {
          "base_uri": "https://localhost:8080/"
        },
        "id": "VHMJArdfuF2N",
        "outputId": "c70330dc-dc3f-4915-8004-14f2eb3d7a1d"
      },
      "execution_count": null,
      "outputs": [
        {
          "output_type": "execute_result",
          "data": {
            "text/plain": [
              "215.64401686740067"
            ]
          },
          "metadata": {},
          "execution_count": 25
        }
      ]
    },
    {
      "cell_type": "code",
      "source": [
        "math.sqrt(mean_squared_error(y_test,test_predict))"
      ],
      "metadata": {
        "colab": {
          "base_uri": "https://localhost:8080/"
        },
        "id": "MTBIcpqsuqcB",
        "outputId": "8878bbd8-a64b-4e72-fab1-02b7b7eafa18"
      },
      "execution_count": null,
      "outputs": [
        {
          "output_type": "execute_result",
          "data": {
            "text/plain": [
              "170.69038536804715"
            ]
          },
          "metadata": {},
          "execution_count": 26
        }
      ]
    },
    {
      "cell_type": "markdown",
      "source": [
        "# Visualization of actual and predicted values"
      ],
      "metadata": {
        "id": "mc8Q2iDN16F1"
      }
    },
    {
      "cell_type": "code",
      "source": [
        "trainPredictPlot=np.empty_like(closing_set)\n",
        "trainPredictPlot[:, :] = np.nan\n",
        "trainPredictPlot[time_step:len(train_predict)+time_step,:]=train_predict\n",
        "\n",
        "testPredictPlot=np.empty_like(closing_set)\n",
        "testPredictPlot[:, :] = np.nan\n",
        "testPredictPlot[len(train_predict)+(time_step*2)+1:len(closing_set)-1, :]= test_predict\n",
        "\n",
        "plt.plot(scaler.inverse_transform(closing_set))\n",
        "plt.plot(trainPredictPlot)\n",
        "plt.plot(testPredictPlot)\n",
        "plt.show()\n"
      ],
      "metadata": {
        "colab": {
          "base_uri": "https://localhost:8080/",
          "height": 430
        },
        "id": "tTGqO4ymvLLX",
        "outputId": "c309a5fc-1f43-4f2a-8d8c-0b7587538013"
      },
      "execution_count": null,
      "outputs": [
        {
          "output_type": "display_data",
          "data": {
            "text/plain": [
              "<Figure size 640x480 with 1 Axes>"
            ],
            "image/png": "[encoded data removed]"
          },
          "metadata": {}
        }
      ]
    },
    {
      "cell_type": "markdown",
      "source": [
        "# Future Stock Price Predction"
      ],
      "metadata": {
        "id": "nHzE8b8l3CTY"
      }
    },
    {
      "cell_type": "code",
      "source": [
        "len(test_data)"
      ],
      "metadata": {
        "colab": {
          "base_uri": "https://localhost:8080/"
        },
        "id": "hfLcHAkMyw-q",
        "outputId": "4fd3ae6f-c1aa-4201-dd67-61edc7e0c451"
      },
      "execution_count": null,
      "outputs": [
        {
          "output_type": "execute_result",
          "data": {
            "text/plain": [
              "440"
            ]
          },
          "metadata": {},
          "execution_count": 28
        }
      ]
    },
    {
      "cell_type": "code",
      "source": [
        "x_input=test_data[340:].reshape(1,-1)\n",
        "x_input.shape"
      ],
      "metadata": {
        "colab": {
          "base_uri": "https://localhost:8080/"
        },
        "id": "dGUlDn112B8S",
        "outputId": "49f82299-ae9a-4de4-b6a1-ddc338ecb9c1"
      },
      "execution_count": null,
      "outputs": [
        {
          "output_type": "execute_result",
          "data": {
            "text/plain": [
              "(1, 100)"
            ]
          },
          "metadata": {},
          "execution_count": 29
        }
      ]
    },
    {
      "cell_type": "code",
      "source": [
        "temp_input=list(x_input)\n",
        "temp_input=temp_input[0].tolist()"
      ],
      "metadata": {
        "id": "SWxJAjQy2s8O"
      },
      "execution_count": null,
      "outputs": []
    },
    {
      "cell_type": "code",
      "source": [
        "temp_input"
      ],
      "metadata": {
        "colab": {
          "base_uri": "https://localhost:8080/"
        },
        "id": "myFHqyLb5C03",
        "outputId": "277ea9e3-d8b6-4ede-8e89-a6296fd91b86"
      },
      "execution_count": null,
      "outputs": [
        {
          "output_type": "execute_result",
          "data": {
            "text/plain": [
              "[0.17868503443957418,\n",
              " 0.18164057608015027,\n",
              " 0.17397620538509706,\n",
              " 0.16874139010644956,\n",
              " 0.17257357545397617,\n",
              " 0.17074514715090788,\n",
              " 0.17815904821540385,\n",
              " 0.18091421415153408,\n",
              " 0.17194740137758296,\n",
              " 0.16804007514088914,\n",
              " 0.17019411396368184,\n",
              " 0.173425172197871,\n",
              " 0.16310582341891044,\n",
              " 0.15927363807138384,\n",
              " 0.15992485911083276,\n",
              " 0.16122730118973072,\n",
              " 0.16758922980588598,\n",
              " 0.16420788979336254,\n",
              " 0.1673638071383844,\n",
              " 0.17049467752035058,\n",
              " 0.17695679398872882,\n",
              " 0.18071383844708827,\n",
              " 0.17921102066374445,\n",
              " 0.18274264245460237,\n",
              " 0.1850219160926737,\n",
              " 0.18036318096430803,\n",
              " 0.18003757044458357,\n",
              " 0.17610519724483403,\n",
              " 0.17282404508453347,\n",
              " 0.17187226048841575,\n",
              " 0.1654101440200375,\n",
              " 0.1657107075767063,\n",
              " 0.1668127739511584,\n",
              " 0.16095178459611764,\n",
              " 0.15040701314965554,\n",
              " 0.1537382592360676,\n",
              " 0.15892298058860355,\n",
              " 0.16012523481527863,\n",
              " 0.16814026299311202,\n",
              " 0.17715716969317463,\n",
              " 0.17485284909204757,\n",
              " 0.1813149655604257,\n",
              " 0.18780212899185966,\n",
              " 0.19048215403882274,\n",
              " 0.1892798998121477,\n",
              " 0.19927363807138382,\n",
              " 0.19526612398246712,\n",
              " 0.20187852222917968,\n",
              " 0.20330619912335623,\n",
              " 0.2075641828428303,\n",
              " 0.2075140889167188,\n",
              " 0.21192235441452717,\n",
              " 0.20989355040701307,\n",
              " 0.211571696931747,\n",
              " 0.20821540388227922,\n",
              " 0.2077645585472761,\n",
              " 0.2092924232936756,\n",
              " 0.20671258609893545,\n",
              " 0.20816530995616772,\n",
              " 0.2113963681903569,\n",
              " 0.20686286787726987,\n",
              " 0.21685660613650587,\n",
              " 0.21410144020037564,\n",
              " 0.21898559799624295,\n",
              " 0.22259236067626798,\n",
              " 0.21625547902316838,\n",
              " 0.22008766437069505,\n",
              " 0.2282279273638071,\n",
              " 0.22860363180964305,\n",
              " 0.2272510958046336,\n",
              " 0.22304320601127103,\n",
              " 0.22567313713212267,\n",
              " 0.2203882279273638,\n",
              " 0.22001252348152783,\n",
              " 0.21730745147150904,\n",
              " 0.21592986850344392,\n",
              " 0.21618033813400123,\n",
              " 0.2172573575453976,\n",
              " 0.21462742642454596,\n",
              " 0.19737006887914832,\n",
              " 0.19388854101440195,\n",
              " 0.18802755165936125,\n",
              " 0.18619912335629302,\n",
              " 0.1971696931747025,\n",
              " 0.19611772072636185,\n",
              " 0.1987476518472135,\n",
              " 0.19724483406386972,\n",
              " 0.19807138384470874,\n",
              " 0.19233562930494674,\n",
              " 0.18995616781465247,\n",
              " 0.20485911083281144,\n",
              " 0.21219787100814025,\n",
              " 0.21803381340012518,\n",
              " 0.2212648716343143,\n",
              " 0.21956167814652466,\n",
              " 0.2187351283656856,\n",
              " 0.21435190983093294,\n",
              " 0.2126236693800876,\n",
              " 0.2033813400125234,\n",
              " 0.1942642454602379]"
            ]
          },
          "metadata": {},
          "execution_count": 31
        }
      ]
    },
    {
      "cell_type": "code",
      "source": [
        "lst_output=[]\n",
        "n_steps=100\n",
        "i=0\n",
        "while(i<30):\n",
        "  if(len(temp_input))>100:\n",
        "    x_input=np.array(temp_input[1:])\n",
        "    print(\"{} day input {}\".format(i,x_input))\n",
        "    x_input=x_input.reshape(1,-1)\n",
        "    x_input=x_input.reshape((1,n_steps,1))\n",
        "\n",
        "    yhat = model.predict(x_input,verbose=0)\n",
        "    print(\"{} day output {}\".format(i,yhat))\n",
        "    temp_input.extend(yhat[0].tolist())\n",
        "    temp_input=temp_input[1:]\n",
        "    lst_output.extend(yhat.tolist())\n",
        "    i=i+1\n",
        "  else:\n",
        "    x_input = x_input.reshape(1,n_steps,1)\n",
        "    yhat = model.predict(x_input,verbose=0)\n",
        "    print(yhat[0])\n",
        "    temp_input.extend(yhat[0].tolist())\n",
        "    print(len(temp_input))\n",
        "    lst_output.extend(yhat.tolist())\n",
        "    i=i+1\n",
        "print(lst_output)"
      ],
      "metadata": {
        "colab": {
          "base_uri": "https://localhost:8080/"
        },
        "id": "o3vsVQ6c4ui2",
        "outputId": "a90132e4-2e08-45d2-9a5f-a85bdfde897d"
      },
      "execution_count": null,
      "outputs": [
        {
          "output_type": "stream",
          "name": "stdout",
          "text": [
            "[0.22637264]\n",
            "101\n",
            "1 day input [0.18164058 0.17397621 0.16874139 0.17257358 0.17074515 0.17815905\n",
            " 0.18091421 0.1719474  0.16804008 0.17019411 0.17342517 0.16310582\n",
            " 0.15927364 0.15992486 0.1612273  0.16758923 0.16420789 0.16736381\n",
            " 0.17049468 0.17695679 0.18071384 0.17921102 0.18274264 0.18502192\n",
            " 0.18036318 0.18003757 0.1761052  0.17282405 0.17187226 0.16541014\n",
            " 0.16571071 0.16681277 0.16095178 0.15040701 0.15373826 0.15892298\n",
            " 0.16012523 0.16814026 0.17715717 0.17485285 0.18131497 0.18780213\n",
            " 0.19048215 0.1892799  0.19927364 0.19526612 0.20187852 0.2033062\n",
            " 0.20756418 0.20751409 0.21192235 0.20989355 0.2115717  0.2082154\n",
            " 0.20776456 0.20929242 0.20671259 0.20816531 0.21139637 0.20686287\n",
            " 0.21685661 0.21410144 0.2189856  0.22259236 0.21625548 0.22008766\n",
            " 0.22822793 0.22860363 0.2272511  0.22304321 0.22567314 0.22038823\n",
            " 0.22001252 0.21730745 0.21592987 0.21618034 0.21725736 0.21462743\n",
            " 0.19737007 0.19388854 0.18802755 0.18619912 0.19716969 0.19611772\n",
            " 0.19874765 0.19724483 0.19807138 0.19233563 0.18995617 0.20485911\n",
            " 0.21219787 0.21803381 0.22126487 0.21956168 0.21873513 0.21435191\n",
            " 0.21262367 0.20338134 0.19426425 0.22637264]\n",
            "1 day output [[0.22728853]]\n",
            "2 day input [0.17397621 0.16874139 0.17257358 0.17074515 0.17815905 0.18091421\n",
            " 0.1719474  0.16804008 0.17019411 0.17342517 0.16310582 0.15927364\n",
            " 0.15992486 0.1612273  0.16758923 0.16420789 0.16736381 0.17049468\n",
            " 0.17695679 0.18071384 0.17921102 0.18274264 0.18502192 0.18036318\n",
            " 0.18003757 0.1761052  0.17282405 0.17187226 0.16541014 0.16571071\n",
            " 0.16681277 0.16095178 0.15040701 0.15373826 0.15892298 0.16012523\n",
            " 0.16814026 0.17715717 0.17485285 0.18131497 0.18780213 0.19048215\n",
            " 0.1892799  0.19927364 0.19526612 0.20187852 0.2033062  0.20756418\n",
            " 0.20751409 0.21192235 0.20989355 0.2115717  0.2082154  0.20776456\n",
            " 0.20929242 0.20671259 0.20816531 0.21139637 0.20686287 0.21685661\n",
            " 0.21410144 0.2189856  0.22259236 0.21625548 0.22008766 0.22822793\n",
            " 0.22860363 0.2272511  0.22304321 0.22567314 0.22038823 0.22001252\n",
            " 0.21730745 0.21592987 0.21618034 0.21725736 0.21462743 0.19737007\n",
            " 0.19388854 0.18802755 0.18619912 0.19716969 0.19611772 0.19874765\n",
            " 0.19724483 0.19807138 0.19233563 0.18995617 0.20485911 0.21219787\n",
            " 0.21803381 0.22126487 0.21956168 0.21873513 0.21435191 0.21262367\n",
            " 0.20338134 0.19426425 0.22637264 0.22728853]\n",
            "2 day output [[0.22827786]]\n",
            "3 day input [0.16874139 0.17257358 0.17074515 0.17815905 0.18091421 0.1719474\n",
            " 0.16804008 0.17019411 0.17342517 0.16310582 0.15927364 0.15992486\n",
            " 0.1612273  0.16758923 0.16420789 0.16736381 0.17049468 0.17695679\n",
            " 0.18071384 0.17921102 0.18274264 0.18502192 0.18036318 0.18003757\n",
            " 0.1761052  0.17282405 0.17187226 0.16541014 0.16571071 0.16681277\n",
            " 0.16095178 0.15040701 0.15373826 0.15892298 0.16012523 0.16814026\n",
            " 0.17715717 0.17485285 0.18131497 0.18780213 0.19048215 0.1892799\n",
            " 0.19927364 0.19526612 0.20187852 0.2033062  0.20756418 0.20751409\n",
            " 0.21192235 0.20989355 0.2115717  0.2082154  0.20776456 0.20929242\n",
            " 0.20671259 0.20816531 0.21139637 0.20686287 0.21685661 0.21410144\n",
            " 0.2189856  0.22259236 0.21625548 0.22008766 0.22822793 0.22860363\n",
            " 0.2272511  0.22304321 0.22567314 0.22038823 0.22001252 0.21730745\n",
            " 0.21592987 0.21618034 0.21725736 0.21462743 0.19737007 0.19388854\n",
            " 0.18802755 0.18619912 0.19716969 0.19611772 0.19874765 0.19724483\n",
            " 0.19807138 0.19233563 0.18995617 0.20485911 0.21219787 0.21803381\n",
            " 0.22126487 0.21956168 0.21873513 0.21435191 0.21262367 0.20338134\n",
            " 0.19426425 0.22637264 0.22728853 0.22827786]\n",
            "3 day output [[0.2295353]]\n",
            "4 day input [0.17257358 0.17074515 0.17815905 0.18091421 0.1719474  0.16804008\n",
            " 0.17019411 0.17342517 0.16310582 0.15927364 0.15992486 0.1612273\n",
            " 0.16758923 0.16420789 0.16736381 0.17049468 0.17695679 0.18071384\n",
            " 0.17921102 0.18274264 0.18502192 0.18036318 0.18003757 0.1761052\n",
            " 0.17282405 0.17187226 0.16541014 0.16571071 0.16681277 0.16095178\n",
            " 0.15040701 0.15373826 0.15892298 0.16012523 0.16814026 0.17715717\n",
            " 0.17485285 0.18131497 0.18780213 0.19048215 0.1892799  0.19927364\n",
            " 0.19526612 0.20187852 0.2033062  0.20756418 0.20751409 0.21192235\n",
            " 0.20989355 0.2115717  0.2082154  0.20776456 0.20929242 0.20671259\n",
            " 0.20816531 0.21139637 0.20686287 0.21685661 0.21410144 0.2189856\n",
            " 0.22259236 0.21625548 0.22008766 0.22822793 0.22860363 0.2272511\n",
            " 0.22304321 0.22567314 0.22038823 0.22001252 0.21730745 0.21592987\n",
            " 0.21618034 0.21725736 0.21462743 0.19737007 0.19388854 0.18802755\n",
            " 0.18619912 0.19716969 0.19611772 0.19874765 0.19724483 0.19807138\n",
            " 0.19233563 0.18995617 0.20485911 0.21219787 0.21803381 0.22126487\n",
            " 0.21956168 0.21873513 0.21435191 0.21262367 0.20338134 0.19426425\n",
            " 0.22637264 0.22728853 0.22827786 0.2295353 ]\n",
            "4 day output [[0.23112208]]\n",
            "5 day input [0.17074515 0.17815905 0.18091421 0.1719474  0.16804008 0.17019411\n",
            " 0.17342517 0.16310582 0.15927364 0.15992486 0.1612273  0.16758923\n",
            " 0.16420789 0.16736381 0.17049468 0.17695679 0.18071384 0.17921102\n",
            " 0.18274264 0.18502192 0.18036318 0.18003757 0.1761052  0.17282405\n",
            " 0.17187226 0.16541014 0.16571071 0.16681277 0.16095178 0.15040701\n",
            " 0.15373826 0.15892298 0.16012523 0.16814026 0.17715717 0.17485285\n",
            " 0.18131497 0.18780213 0.19048215 0.1892799  0.19927364 0.19526612\n",
            " 0.20187852 0.2033062  0.20756418 0.20751409 0.21192235 0.20989355\n",
            " 0.2115717  0.2082154  0.20776456 0.20929242 0.20671259 0.20816531\n",
            " 0.21139637 0.20686287 0.21685661 0.21410144 0.2189856  0.22259236\n",
            " 0.21625548 0.22008766 0.22822793 0.22860363 0.2272511  0.22304321\n",
            " 0.22567314 0.22038823 0.22001252 0.21730745 0.21592987 0.21618034\n",
            " 0.21725736 0.21462743 0.19737007 0.19388854 0.18802755 0.18619912\n",
            " 0.19716969 0.19611772 0.19874765 0.19724483 0.19807138 0.19233563\n",
            " 0.18995617 0.20485911 0.21219787 0.21803381 0.22126487 0.21956168\n",
            " 0.21873513 0.21435191 0.21262367 0.20338134 0.19426425 0.22637264\n",
            " 0.22728853 0.22827786 0.2295353  0.23112208]\n",
            "5 day output [[0.23302332]]\n",
            "6 day input [0.17815905 0.18091421 0.1719474  0.16804008 0.17019411 0.17342517\n",
            " 0.16310582 0.15927364 0.15992486 0.1612273  0.16758923 0.16420789\n",
            " 0.16736381 0.17049468 0.17695679 0.18071384 0.17921102 0.18274264\n",
            " 0.18502192 0.18036318 0.18003757 0.1761052  0.17282405 0.17187226\n",
            " 0.16541014 0.16571071 0.16681277 0.16095178 0.15040701 0.15373826\n",
            " 0.15892298 0.16012523 0.16814026 0.17715717 0.17485285 0.18131497\n",
            " 0.18780213 0.19048215 0.1892799  0.19927364 0.19526612 0.20187852\n",
            " 0.2033062  0.20756418 0.20751409 0.21192235 0.20989355 0.2115717\n",
            " 0.2082154  0.20776456 0.20929242 0.20671259 0.20816531 0.21139637\n",
            " 0.20686287 0.21685661 0.21410144 0.2189856  0.22259236 0.21625548\n",
            " 0.22008766 0.22822793 0.22860363 0.2272511  0.22304321 0.22567314\n",
            " 0.22038823 0.22001252 0.21730745 0.21592987 0.21618034 0.21725736\n",
            " 0.21462743 0.19737007 0.19388854 0.18802755 0.18619912 0.19716969\n",
            " 0.19611772 0.19874765 0.19724483 0.19807138 0.19233563 0.18995617\n",
            " 0.20485911 0.21219787 0.21803381 0.22126487 0.21956168 0.21873513\n",
            " 0.21435191 0.21262367 0.20338134 0.19426425 0.22637264 0.22728853\n",
            " 0.22827786 0.2295353  0.23112208 0.23302332]\n",
            "6 day output [[0.23518923]]\n",
            "7 day input [0.18091421 0.1719474  0.16804008 0.17019411 0.17342517 0.16310582\n",
            " 0.15927364 0.15992486 0.1612273  0.16758923 0.16420789 0.16736381\n",
            " 0.17049468 0.17695679 0.18071384 0.17921102 0.18274264 0.18502192\n",
            " 0.18036318 0.18003757 0.1761052  0.17282405 0.17187226 0.16541014\n",
            " 0.16571071 0.16681277 0.16095178 0.15040701 0.15373826 0.15892298\n",
            " 0.16012523 0.16814026 0.17715717 0.17485285 0.18131497 0.18780213\n",
            " 0.19048215 0.1892799  0.19927364 0.19526612 0.20187852 0.2033062\n",
            " 0.20756418 0.20751409 0.21192235 0.20989355 0.2115717  0.2082154\n",
            " 0.20776456 0.20929242 0.20671259 0.20816531 0.21139637 0.20686287\n",
            " 0.21685661 0.21410144 0.2189856  0.22259236 0.21625548 0.22008766\n",
            " 0.22822793 0.22860363 0.2272511  0.22304321 0.22567314 0.22038823\n",
            " 0.22001252 0.21730745 0.21592987 0.21618034 0.21725736 0.21462743\n",
            " 0.19737007 0.19388854 0.18802755 0.18619912 0.19716969 0.19611772\n",
            " 0.19874765 0.19724483 0.19807138 0.19233563 0.18995617 0.20485911\n",
            " 0.21219787 0.21803381 0.22126487 0.21956168 0.21873513 0.21435191\n",
            " 0.21262367 0.20338134 0.19426425 0.22637264 0.22728853 0.22827786\n",
            " 0.2295353  0.23112208 0.23302332 0.23518923]\n",
            "7 day output [[0.2375602]]\n",
            "8 day input [0.1719474  0.16804008 0.17019411 0.17342517 0.16310582 0.15927364\n",
            " 0.15992486 0.1612273  0.16758923 0.16420789 0.16736381 0.17049468\n",
            " 0.17695679 0.18071384 0.17921102 0.18274264 0.18502192 0.18036318\n",
            " 0.18003757 0.1761052  0.17282405 0.17187226 0.16541014 0.16571071\n",
            " 0.16681277 0.16095178 0.15040701 0.15373826 0.15892298 0.16012523\n",
            " 0.16814026 0.17715717 0.17485285 0.18131497 0.18780213 0.19048215\n",
            " 0.1892799  0.19927364 0.19526612 0.20187852 0.2033062  0.20756418\n",
            " 0.20751409 0.21192235 0.20989355 0.2115717  0.2082154  0.20776456\n",
            " 0.20929242 0.20671259 0.20816531 0.21139637 0.20686287 0.21685661\n",
            " 0.21410144 0.2189856  0.22259236 0.21625548 0.22008766 0.22822793\n",
            " 0.22860363 0.2272511  0.22304321 0.22567314 0.22038823 0.22001252\n",
            " 0.21730745 0.21592987 0.21618034 0.21725736 0.21462743 0.19737007\n",
            " 0.19388854 0.18802755 0.18619912 0.19716969 0.19611772 0.19874765\n",
            " 0.19724483 0.19807138 0.19233563 0.18995617 0.20485911 0.21219787\n",
            " 0.21803381 0.22126487 0.21956168 0.21873513 0.21435191 0.21262367\n",
            " 0.20338134 0.19426425 0.22637264 0.22728853 0.22827786 0.2295353\n",
            " 0.23112208 0.23302332 0.23518923 0.2375602 ]\n",
            "8 day output [[0.24008161]]\n",
            "9 day input [0.16804008 0.17019411 0.17342517 0.16310582 0.15927364 0.15992486\n",
            " 0.1612273  0.16758923 0.16420789 0.16736381 0.17049468 0.17695679\n",
            " 0.18071384 0.17921102 0.18274264 0.18502192 0.18036318 0.18003757\n",
            " 0.1761052  0.17282405 0.17187226 0.16541014 0.16571071 0.16681277\n",
            " 0.16095178 0.15040701 0.15373826 0.15892298 0.16012523 0.16814026\n",
            " 0.17715717 0.17485285 0.18131497 0.18780213 0.19048215 0.1892799\n",
            " 0.19927364 0.19526612 0.20187852 0.2033062  0.20756418 0.20751409\n",
            " 0.21192235 0.20989355 0.2115717  0.2082154  0.20776456 0.20929242\n",
            " 0.20671259 0.20816531 0.21139637 0.20686287 0.21685661 0.21410144\n",
            " 0.2189856  0.22259236 0.21625548 0.22008766 0.22822793 0.22860363\n",
            " 0.2272511  0.22304321 0.22567314 0.22038823 0.22001252 0.21730745\n",
            " 0.21592987 0.21618034 0.21725736 0.21462743 0.19737007 0.19388854\n",
            " 0.18802755 0.18619912 0.19716969 0.19611772 0.19874765 0.19724483\n",
            " 0.19807138 0.19233563 0.18995617 0.20485911 0.21219787 0.21803381\n",
            " 0.22126487 0.21956168 0.21873513 0.21435191 0.21262367 0.20338134\n",
            " 0.19426425 0.22637264 0.22728853 0.22827786 0.2295353  0.23112208\n",
            " 0.23302332 0.23518923 0.2375602  0.24008161]\n",
            "9 day output [[0.24270938]]\n",
            "10 day input [0.17019411 0.17342517 0.16310582 0.15927364 0.15992486 0.1612273\n",
            " 0.16758923 0.16420789 0.16736381 0.17049468 0.17695679 0.18071384\n",
            " 0.17921102 0.18274264 0.18502192 0.18036318 0.18003757 0.1761052\n",
            " 0.17282405 0.17187226 0.16541014 0.16571071 0.16681277 0.16095178\n",
            " 0.15040701 0.15373826 0.15892298 0.16012523 0.16814026 0.17715717\n",
            " 0.17485285 0.18131497 0.18780213 0.19048215 0.1892799  0.19927364\n",
            " 0.19526612 0.20187852 0.2033062  0.20756418 0.20751409 0.21192235\n",
            " 0.20989355 0.2115717  0.2082154  0.20776456 0.20929242 0.20671259\n",
            " 0.20816531 0.21139637 0.20686287 0.21685661 0.21410144 0.2189856\n",
            " 0.22259236 0.21625548 0.22008766 0.22822793 0.22860363 0.2272511\n",
            " 0.22304321 0.22567314 0.22038823 0.22001252 0.21730745 0.21592987\n",
            " 0.21618034 0.21725736 0.21462743 0.19737007 0.19388854 0.18802755\n",
            " 0.18619912 0.19716969 0.19611772 0.19874765 0.19724483 0.19807138\n",
            " 0.19233563 0.18995617 0.20485911 0.21219787 0.21803381 0.22126487\n",
            " 0.21956168 0.21873513 0.21435191 0.21262367 0.20338134 0.19426425\n",
            " 0.22637264 0.22728853 0.22827786 0.2295353  0.23112208 0.23302332\n",
            " 0.23518923 0.2375602  0.24008161 0.24270938]\n",
            "10 day output [[0.24541168]]\n",
            "11 day input [0.17342517 0.16310582 0.15927364 0.15992486 0.1612273  0.16758923\n",
            " 0.16420789 0.16736381 0.17049468 0.17695679 0.18071384 0.17921102\n",
            " 0.18274264 0.18502192 0.18036318 0.18003757 0.1761052  0.17282405\n",
            " 0.17187226 0.16541014 0.16571071 0.16681277 0.16095178 0.15040701\n",
            " 0.15373826 0.15892298 0.16012523 0.16814026 0.17715717 0.17485285\n",
            " 0.18131497 0.18780213 0.19048215 0.1892799  0.19927364 0.19526612\n",
            " 0.20187852 0.2033062  0.20756418 0.20751409 0.21192235 0.20989355\n",
            " 0.2115717  0.2082154  0.20776456 0.20929242 0.20671259 0.20816531\n",
            " 0.21139637 0.20686287 0.21685661 0.21410144 0.2189856  0.22259236\n",
            " 0.21625548 0.22008766 0.22822793 0.22860363 0.2272511  0.22304321\n",
            " 0.22567314 0.22038823 0.22001252 0.21730745 0.21592987 0.21618034\n",
            " 0.21725736 0.21462743 0.19737007 0.19388854 0.18802755 0.18619912\n",
            " 0.19716969 0.19611772 0.19874765 0.19724483 0.19807138 0.19233563\n",
            " 0.18995617 0.20485911 0.21219787 0.21803381 0.22126487 0.21956168\n",
            " 0.21873513 0.21435191 0.21262367 0.20338134 0.19426425 0.22637264\n",
            " 0.22728853 0.22827786 0.2295353  0.23112208 0.23302332 0.23518923\n",
            " 0.2375602  0.24008161 0.24270938 0.24541168]\n",
            "11 day output [[0.24816746]]\n",
            "12 day input [0.16310582 0.15927364 0.15992486 0.1612273  0.16758923 0.16420789\n",
            " 0.16736381 0.17049468 0.17695679 0.18071384 0.17921102 0.18274264\n",
            " 0.18502192 0.18036318 0.18003757 0.1761052  0.17282405 0.17187226\n",
            " 0.16541014 0.16571071 0.16681277 0.16095178 0.15040701 0.15373826\n",
            " 0.15892298 0.16012523 0.16814026 0.17715717 0.17485285 0.18131497\n",
            " 0.18780213 0.19048215 0.1892799  0.19927364 0.19526612 0.20187852\n",
            " 0.2033062  0.20756418 0.20751409 0.21192235 0.20989355 0.2115717\n",
            " 0.2082154  0.20776456 0.20929242 0.20671259 0.20816531 0.21139637\n",
            " 0.20686287 0.21685661 0.21410144 0.2189856  0.22259236 0.21625548\n",
            " 0.22008766 0.22822793 0.22860363 0.2272511  0.22304321 0.22567314\n",
            " 0.22038823 0.22001252 0.21730745 0.21592987 0.21618034 0.21725736\n",
            " 0.21462743 0.19737007 0.19388854 0.18802755 0.18619912 0.19716969\n",
            " 0.19611772 0.19874765 0.19724483 0.19807138 0.19233563 0.18995617\n",
            " 0.20485911 0.21219787 0.21803381 0.22126487 0.21956168 0.21873513\n",
            " 0.21435191 0.21262367 0.20338134 0.19426425 0.22637264 0.22728853\n",
            " 0.22827786 0.2295353  0.23112208 0.23302332 0.23518923 0.2375602\n",
            " 0.24008161 0.24270938 0.24541168 0.24816746]\n",
            "12 day output [[0.25096402]]\n",
            "13 day input [0.15927364 0.15992486 0.1612273  0.16758923 0.16420789 0.16736381\n",
            " 0.17049468 0.17695679 0.18071384 0.17921102 0.18274264 0.18502192\n",
            " 0.18036318 0.18003757 0.1761052  0.17282405 0.17187226 0.16541014\n",
            " 0.16571071 0.16681277 0.16095178 0.15040701 0.15373826 0.15892298\n",
            " 0.16012523 0.16814026 0.17715717 0.17485285 0.18131497 0.18780213\n",
            " 0.19048215 0.1892799  0.19927364 0.19526612 0.20187852 0.2033062\n",
            " 0.20756418 0.20751409 0.21192235 0.20989355 0.2115717  0.2082154\n",
            " 0.20776456 0.20929242 0.20671259 0.20816531 0.21139637 0.20686287\n",
            " 0.21685661 0.21410144 0.2189856  0.22259236 0.21625548 0.22008766\n",
            " 0.22822793 0.22860363 0.2272511  0.22304321 0.22567314 0.22038823\n",
            " 0.22001252 0.21730745 0.21592987 0.21618034 0.21725736 0.21462743\n",
            " 0.19737007 0.19388854 0.18802755 0.18619912 0.19716969 0.19611772\n",
            " 0.19874765 0.19724483 0.19807138 0.19233563 0.18995617 0.20485911\n",
            " 0.21219787 0.21803381 0.22126487 0.21956168 0.21873513 0.21435191\n",
            " 0.21262367 0.20338134 0.19426425 0.22637264 0.22728853 0.22827786\n",
            " 0.2295353  0.23112208 0.23302332 0.23518923 0.2375602  0.24008161\n",
            " 0.24270938 0.24541168 0.24816746 0.25096402]\n",
            "13 day output [[0.25379476]]\n",
            "14 day input [0.15992486 0.1612273  0.16758923 0.16420789 0.16736381 0.17049468\n",
            " 0.17695679 0.18071384 0.17921102 0.18274264 0.18502192 0.18036318\n",
            " 0.18003757 0.1761052  0.17282405 0.17187226 0.16541014 0.16571071\n",
            " 0.16681277 0.16095178 0.15040701 0.15373826 0.15892298 0.16012523\n",
            " 0.16814026 0.17715717 0.17485285 0.18131497 0.18780213 0.19048215\n",
            " 0.1892799  0.19927364 0.19526612 0.20187852 0.2033062  0.20756418\n",
            " 0.20751409 0.21192235 0.20989355 0.2115717  0.2082154  0.20776456\n",
            " 0.20929242 0.20671259 0.20816531 0.21139637 0.20686287 0.21685661\n",
            " 0.21410144 0.2189856  0.22259236 0.21625548 0.22008766 0.22822793\n",
            " 0.22860363 0.2272511  0.22304321 0.22567314 0.22038823 0.22001252\n",
            " 0.21730745 0.21592987 0.21618034 0.21725736 0.21462743 0.19737007\n",
            " 0.19388854 0.18802755 0.18619912 0.19716969 0.19611772 0.19874765\n",
            " 0.19724483 0.19807138 0.19233563 0.18995617 0.20485911 0.21219787\n",
            " 0.21803381 0.22126487 0.21956168 0.21873513 0.21435191 0.21262367\n",
            " 0.20338134 0.19426425 0.22637264 0.22728853 0.22827786 0.2295353\n",
            " 0.23112208 0.23302332 0.23518923 0.2375602  0.24008161 0.24270938\n",
            " 0.24541168 0.24816746 0.25096402 0.25379476]\n",
            "14 day output [[0.25665674]]\n",
            "15 day input [0.1612273  0.16758923 0.16420789 0.16736381 0.17049468 0.17695679\n",
            " 0.18071384 0.17921102 0.18274264 0.18502192 0.18036318 0.18003757\n",
            " 0.1761052  0.17282405 0.17187226 0.16541014 0.16571071 0.16681277\n",
            " 0.16095178 0.15040701 0.15373826 0.15892298 0.16012523 0.16814026\n",
            " 0.17715717 0.17485285 0.18131497 0.18780213 0.19048215 0.1892799\n",
            " 0.19927364 0.19526612 0.20187852 0.2033062  0.20756418 0.20751409\n",
            " 0.21192235 0.20989355 0.2115717  0.2082154  0.20776456 0.20929242\n",
            " 0.20671259 0.20816531 0.21139637 0.20686287 0.21685661 0.21410144\n",
            " 0.2189856  0.22259236 0.21625548 0.22008766 0.22822793 0.22860363\n",
            " 0.2272511  0.22304321 0.22567314 0.22038823 0.22001252 0.21730745\n",
            " 0.21592987 0.21618034 0.21725736 0.21462743 0.19737007 0.19388854\n",
            " 0.18802755 0.18619912 0.19716969 0.19611772 0.19874765 0.19724483\n",
            " 0.19807138 0.19233563 0.18995617 0.20485911 0.21219787 0.21803381\n",
            " 0.22126487 0.21956168 0.21873513 0.21435191 0.21262367 0.20338134\n",
            " 0.19426425 0.22637264 0.22728853 0.22827786 0.2295353  0.23112208\n",
            " 0.23302332 0.23518923 0.2375602  0.24008161 0.24270938 0.24541168\n",
            " 0.24816746 0.25096402 0.25379476 0.25665674]\n",
            "15 day output [[0.2595494]]\n",
            "16 day input [0.16758923 0.16420789 0.16736381 0.17049468 0.17695679 0.18071384\n",
            " 0.17921102 0.18274264 0.18502192 0.18036318 0.18003757 0.1761052\n",
            " 0.17282405 0.17187226 0.16541014 0.16571071 0.16681277 0.16095178\n",
            " 0.15040701 0.15373826 0.15892298 0.16012523 0.16814026 0.17715717\n",
            " 0.17485285 0.18131497 0.18780213 0.19048215 0.1892799  0.19927364\n",
            " 0.19526612 0.20187852 0.2033062  0.20756418 0.20751409 0.21192235\n",
            " 0.20989355 0.2115717  0.2082154  0.20776456 0.20929242 0.20671259\n",
            " 0.20816531 0.21139637 0.20686287 0.21685661 0.21410144 0.2189856\n",
            " 0.22259236 0.21625548 0.22008766 0.22822793 0.22860363 0.2272511\n",
            " 0.22304321 0.22567314 0.22038823 0.22001252 0.21730745 0.21592987\n",
            " 0.21618034 0.21725736 0.21462743 0.19737007 0.19388854 0.18802755\n",
            " 0.18619912 0.19716969 0.19611772 0.19874765 0.19724483 0.19807138\n",
            " 0.19233563 0.18995617 0.20485911 0.21219787 0.21803381 0.22126487\n",
            " 0.21956168 0.21873513 0.21435191 0.21262367 0.20338134 0.19426425\n",
            " 0.22637264 0.22728853 0.22827786 0.2295353  0.23112208 0.23302332\n",
            " 0.23518923 0.2375602  0.24008161 0.24270938 0.24541168 0.24816746\n",
            " 0.25096402 0.25379476 0.25665674 0.25954941]\n",
            "16 day output [[0.26247323]]\n",
            "17 day input [0.16420789 0.16736381 0.17049468 0.17695679 0.18071384 0.17921102\n",
            " 0.18274264 0.18502192 0.18036318 0.18003757 0.1761052  0.17282405\n",
            " 0.17187226 0.16541014 0.16571071 0.16681277 0.16095178 0.15040701\n",
            " 0.15373826 0.15892298 0.16012523 0.16814026 0.17715717 0.17485285\n",
            " 0.18131497 0.18780213 0.19048215 0.1892799  0.19927364 0.19526612\n",
            " 0.20187852 0.2033062  0.20756418 0.20751409 0.21192235 0.20989355\n",
            " 0.2115717  0.2082154  0.20776456 0.20929242 0.20671259 0.20816531\n",
            " 0.21139637 0.20686287 0.21685661 0.21410144 0.2189856  0.22259236\n",
            " 0.21625548 0.22008766 0.22822793 0.22860363 0.2272511  0.22304321\n",
            " 0.22567314 0.22038823 0.22001252 0.21730745 0.21592987 0.21618034\n",
            " 0.21725736 0.21462743 0.19737007 0.19388854 0.18802755 0.18619912\n",
            " 0.19716969 0.19611772 0.19874765 0.19724483 0.19807138 0.19233563\n",
            " 0.18995617 0.20485911 0.21219787 0.21803381 0.22126487 0.21956168\n",
            " 0.21873513 0.21435191 0.21262367 0.20338134 0.19426425 0.22637264\n",
            " 0.22728853 0.22827786 0.2295353  0.23112208 0.23302332 0.23518923\n",
            " 0.2375602  0.24008161 0.24270938 0.24541168 0.24816746 0.25096402\n",
            " 0.25379476 0.25665674 0.25954941 0.26247323]\n",
            "17 day output [[0.26542887]]\n",
            "18 day input [0.16736381 0.17049468 0.17695679 0.18071384 0.17921102 0.18274264\n",
            " 0.18502192 0.18036318 0.18003757 0.1761052  0.17282405 0.17187226\n",
            " 0.16541014 0.16571071 0.16681277 0.16095178 0.15040701 0.15373826\n",
            " 0.15892298 0.16012523 0.16814026 0.17715717 0.17485285 0.18131497\n",
            " 0.18780213 0.19048215 0.1892799  0.19927364 0.19526612 0.20187852\n",
            " 0.2033062  0.20756418 0.20751409 0.21192235 0.20989355 0.2115717\n",
            " 0.2082154  0.20776456 0.20929242 0.20671259 0.20816531 0.21139637\n",
            " 0.20686287 0.21685661 0.21410144 0.2189856  0.22259236 0.21625548\n",
            " 0.22008766 0.22822793 0.22860363 0.2272511  0.22304321 0.22567314\n",
            " 0.22038823 0.22001252 0.21730745 0.21592987 0.21618034 0.21725736\n",
            " 0.21462743 0.19737007 0.19388854 0.18802755 0.18619912 0.19716969\n",
            " 0.19611772 0.19874765 0.19724483 0.19807138 0.19233563 0.18995617\n",
            " 0.20485911 0.21219787 0.21803381 0.22126487 0.21956168 0.21873513\n",
            " 0.21435191 0.21262367 0.20338134 0.19426425 0.22637264 0.22728853\n",
            " 0.22827786 0.2295353  0.23112208 0.23302332 0.23518923 0.2375602\n",
            " 0.24008161 0.24270938 0.24541168 0.24816746 0.25096402 0.25379476\n",
            " 0.25665674 0.25954941 0.26247323 0.26542887]\n",
            "18 day output [[0.26841712]]\n",
            "19 day input [0.17049468 0.17695679 0.18071384 0.17921102 0.18274264 0.18502192\n",
            " 0.18036318 0.18003757 0.1761052  0.17282405 0.17187226 0.16541014\n",
            " 0.16571071 0.16681277 0.16095178 0.15040701 0.15373826 0.15892298\n",
            " 0.16012523 0.16814026 0.17715717 0.17485285 0.18131497 0.18780213\n",
            " 0.19048215 0.1892799  0.19927364 0.19526612 0.20187852 0.2033062\n",
            " 0.20756418 0.20751409 0.21192235 0.20989355 0.2115717  0.2082154\n",
            " 0.20776456 0.20929242 0.20671259 0.20816531 0.21139637 0.20686287\n",
            " 0.21685661 0.21410144 0.2189856  0.22259236 0.21625548 0.22008766\n",
            " 0.22822793 0.22860363 0.2272511  0.22304321 0.22567314 0.22038823\n",
            " 0.22001252 0.21730745 0.21592987 0.21618034 0.21725736 0.21462743\n",
            " 0.19737007 0.19388854 0.18802755 0.18619912 0.19716969 0.19611772\n",
            " 0.19874765 0.19724483 0.19807138 0.19233563 0.18995617 0.20485911\n",
            " 0.21219787 0.21803381 0.22126487 0.21956168 0.21873513 0.21435191\n",
            " 0.21262367 0.20338134 0.19426425 0.22637264 0.22728853 0.22827786\n",
            " 0.2295353  0.23112208 0.23302332 0.23518923 0.2375602  0.24008161\n",
            " 0.24270938 0.24541168 0.24816746 0.25096402 0.25379476 0.25665674\n",
            " 0.25954941 0.26247323 0.26542887 0.26841712]\n",
            "19 day output [[0.27143854]]\n",
            "20 day input [0.17695679 0.18071384 0.17921102 0.18274264 0.18502192 0.18036318\n",
            " 0.18003757 0.1761052  0.17282405 0.17187226 0.16541014 0.16571071\n",
            " 0.16681277 0.16095178 0.15040701 0.15373826 0.15892298 0.16012523\n",
            " 0.16814026 0.17715717 0.17485285 0.18131497 0.18780213 0.19048215\n",
            " 0.1892799  0.19927364 0.19526612 0.20187852 0.2033062  0.20756418\n",
            " 0.20751409 0.21192235 0.20989355 0.2115717  0.2082154  0.20776456\n",
            " 0.20929242 0.20671259 0.20816531 0.21139637 0.20686287 0.21685661\n",
            " 0.21410144 0.2189856  0.22259236 0.21625548 0.22008766 0.22822793\n",
            " 0.22860363 0.2272511  0.22304321 0.22567314 0.22038823 0.22001252\n",
            " 0.21730745 0.21592987 0.21618034 0.21725736 0.21462743 0.19737007\n",
            " 0.19388854 0.18802755 0.18619912 0.19716969 0.19611772 0.19874765\n",
            " 0.19724483 0.19807138 0.19233563 0.18995617 0.20485911 0.21219787\n",
            " 0.21803381 0.22126487 0.21956168 0.21873513 0.21435191 0.21262367\n",
            " 0.20338134 0.19426425 0.22637264 0.22728853 0.22827786 0.2295353\n",
            " 0.23112208 0.23302332 0.23518923 0.2375602  0.24008161 0.24270938\n",
            " 0.24541168 0.24816746 0.25096402 0.25379476 0.25665674 0.25954941\n",
            " 0.26247323 0.26542887 0.26841712 0.27143854]\n",
            "20 day output [[0.27449328]]\n",
            "21 day input [0.18071384 0.17921102 0.18274264 0.18502192 0.18036318 0.18003757\n",
            " 0.1761052  0.17282405 0.17187226 0.16541014 0.16571071 0.16681277\n",
            " 0.16095178 0.15040701 0.15373826 0.15892298 0.16012523 0.16814026\n",
            " 0.17715717 0.17485285 0.18131497 0.18780213 0.19048215 0.1892799\n",
            " 0.19927364 0.19526612 0.20187852 0.2033062  0.20756418 0.20751409\n",
            " 0.21192235 0.20989355 0.2115717  0.2082154  0.20776456 0.20929242\n",
            " 0.20671259 0.20816531 0.21139637 0.20686287 0.21685661 0.21410144\n",
            " 0.2189856  0.22259236 0.21625548 0.22008766 0.22822793 0.22860363\n",
            " 0.2272511  0.22304321 0.22567314 0.22038823 0.22001252 0.21730745\n",
            " 0.21592987 0.21618034 0.21725736 0.21462743 0.19737007 0.19388854\n",
            " 0.18802755 0.18619912 0.19716969 0.19611772 0.19874765 0.19724483\n",
            " 0.19807138 0.19233563 0.18995617 0.20485911 0.21219787 0.21803381\n",
            " 0.22126487 0.21956168 0.21873513 0.21435191 0.21262367 0.20338134\n",
            " 0.19426425 0.22637264 0.22728853 0.22827786 0.2295353  0.23112208\n",
            " 0.23302332 0.23518923 0.2375602  0.24008161 0.24270938 0.24541168\n",
            " 0.24816746 0.25096402 0.25379476 0.25665674 0.25954941 0.26247323\n",
            " 0.26542887 0.26841712 0.27143854 0.27449328]\n",
            "21 day output [[0.2775814]]\n",
            "22 day input [0.17921102 0.18274264 0.18502192 0.18036318 0.18003757 0.1761052\n",
            " 0.17282405 0.17187226 0.16541014 0.16571071 0.16681277 0.16095178\n",
            " 0.15040701 0.15373826 0.15892298 0.16012523 0.16814026 0.17715717\n",
            " 0.17485285 0.18131497 0.18780213 0.19048215 0.1892799  0.19927364\n",
            " 0.19526612 0.20187852 0.2033062  0.20756418 0.20751409 0.21192235\n",
            " 0.20989355 0.2115717  0.2082154  0.20776456 0.20929242 0.20671259\n",
            " 0.20816531 0.21139637 0.20686287 0.21685661 0.21410144 0.2189856\n",
            " 0.22259236 0.21625548 0.22008766 0.22822793 0.22860363 0.2272511\n",
            " 0.22304321 0.22567314 0.22038823 0.22001252 0.21730745 0.21592987\n",
            " 0.21618034 0.21725736 0.21462743 0.19737007 0.19388854 0.18802755\n",
            " 0.18619912 0.19716969 0.19611772 0.19874765 0.19724483 0.19807138\n",
            " 0.19233563 0.18995617 0.20485911 0.21219787 0.21803381 0.22126487\n",
            " 0.21956168 0.21873513 0.21435191 0.21262367 0.20338134 0.19426425\n",
            " 0.22637264 0.22728853 0.22827786 0.2295353  0.23112208 0.23302332\n",
            " 0.23518923 0.2375602  0.24008161 0.24270938 0.24541168 0.24816746\n",
            " 0.25096402 0.25379476 0.25665674 0.25954941 0.26247323 0.26542887\n",
            " 0.26841712 0.27143854 0.27449328 0.27758139]\n",
            "22 day output [[0.28070244]]\n",
            "23 day input [0.18274264 0.18502192 0.18036318 0.18003757 0.1761052  0.17282405\n",
            " 0.17187226 0.16541014 0.16571071 0.16681277 0.16095178 0.15040701\n",
            " 0.15373826 0.15892298 0.16012523 0.16814026 0.17715717 0.17485285\n",
            " 0.18131497 0.18780213 0.19048215 0.1892799  0.19927364 0.19526612\n",
            " 0.20187852 0.2033062  0.20756418 0.20751409 0.21192235 0.20989355\n",
            " 0.2115717  0.2082154  0.20776456 0.20929242 0.20671259 0.20816531\n",
            " 0.21139637 0.20686287 0.21685661 0.21410144 0.2189856  0.22259236\n",
            " 0.21625548 0.22008766 0.22822793 0.22860363 0.2272511  0.22304321\n",
            " 0.22567314 0.22038823 0.22001252 0.21730745 0.21592987 0.21618034\n",
            " 0.21725736 0.21462743 0.19737007 0.19388854 0.18802755 0.18619912\n",
            " 0.19716969 0.19611772 0.19874765 0.19724483 0.19807138 0.19233563\n",
            " 0.18995617 0.20485911 0.21219787 0.21803381 0.22126487 0.21956168\n",
            " 0.21873513 0.21435191 0.21262367 0.20338134 0.19426425 0.22637264\n",
            " 0.22728853 0.22827786 0.2295353  0.23112208 0.23302332 0.23518923\n",
            " 0.2375602  0.24008161 0.24270938 0.24541168 0.24816746 0.25096402\n",
            " 0.25379476 0.25665674 0.25954941 0.26247323 0.26542887 0.26841712\n",
            " 0.27143854 0.27449328 0.27758139 0.28070244]\n",
            "23 day output [[0.28385615]]\n",
            "24 day input [0.18502192 0.18036318 0.18003757 0.1761052  0.17282405 0.17187226\n",
            " 0.16541014 0.16571071 0.16681277 0.16095178 0.15040701 0.15373826\n",
            " 0.15892298 0.16012523 0.16814026 0.17715717 0.17485285 0.18131497\n",
            " 0.18780213 0.19048215 0.1892799  0.19927364 0.19526612 0.20187852\n",
            " 0.2033062  0.20756418 0.20751409 0.21192235 0.20989355 0.2115717\n",
            " 0.2082154  0.20776456 0.20929242 0.20671259 0.20816531 0.21139637\n",
            " 0.20686287 0.21685661 0.21410144 0.2189856  0.22259236 0.21625548\n",
            " 0.22008766 0.22822793 0.22860363 0.2272511  0.22304321 0.22567314\n",
            " 0.22038823 0.22001252 0.21730745 0.21592987 0.21618034 0.21725736\n",
            " 0.21462743 0.19737007 0.19388854 0.18802755 0.18619912 0.19716969\n",
            " 0.19611772 0.19874765 0.19724483 0.19807138 0.19233563 0.18995617\n",
            " 0.20485911 0.21219787 0.21803381 0.22126487 0.21956168 0.21873513\n",
            " 0.21435191 0.21262367 0.20338134 0.19426425 0.22637264 0.22728853\n",
            " 0.22827786 0.2295353  0.23112208 0.23302332 0.23518923 0.2375602\n",
            " 0.24008161 0.24270938 0.24541168 0.24816746 0.25096402 0.25379476\n",
            " 0.25665674 0.25954941 0.26247323 0.26542887 0.26841712 0.27143854\n",
            " 0.27449328 0.27758139 0.28070244 0.28385615]\n",
            "24 day output [[0.28704172]]\n",
            "25 day input [0.18036318 0.18003757 0.1761052  0.17282405 0.17187226 0.16541014\n",
            " 0.16571071 0.16681277 0.16095178 0.15040701 0.15373826 0.15892298\n",
            " 0.16012523 0.16814026 0.17715717 0.17485285 0.18131497 0.18780213\n",
            " 0.19048215 0.1892799  0.19927364 0.19526612 0.20187852 0.2033062\n",
            " 0.20756418 0.20751409 0.21192235 0.20989355 0.2115717  0.2082154\n",
            " 0.20776456 0.20929242 0.20671259 0.20816531 0.21139637 0.20686287\n",
            " 0.21685661 0.21410144 0.2189856  0.22259236 0.21625548 0.22008766\n",
            " 0.22822793 0.22860363 0.2272511  0.22304321 0.22567314 0.22038823\n",
            " 0.22001252 0.21730745 0.21592987 0.21618034 0.21725736 0.21462743\n",
            " 0.19737007 0.19388854 0.18802755 0.18619912 0.19716969 0.19611772\n",
            " 0.19874765 0.19724483 0.19807138 0.19233563 0.18995617 0.20485911\n",
            " 0.21219787 0.21803381 0.22126487 0.21956168 0.21873513 0.21435191\n",
            " 0.21262367 0.20338134 0.19426425 0.22637264 0.22728853 0.22827786\n",
            " 0.2295353  0.23112208 0.23302332 0.23518923 0.2375602  0.24008161\n",
            " 0.24270938 0.24541168 0.24816746 0.25096402 0.25379476 0.25665674\n",
            " 0.25954941 0.26247323 0.26542887 0.26841712 0.27143854 0.27449328\n",
            " 0.27758139 0.28070244 0.28385615 0.28704172]\n",
            "25 day output [[0.29025862]]\n",
            "26 day input [0.18003757 0.1761052  0.17282405 0.17187226 0.16541014 0.16571071\n",
            " 0.16681277 0.16095178 0.15040701 0.15373826 0.15892298 0.16012523\n",
            " 0.16814026 0.17715717 0.17485285 0.18131497 0.18780213 0.19048215\n",
            " 0.1892799  0.19927364 0.19526612 0.20187852 0.2033062  0.20756418\n",
            " 0.20751409 0.21192235 0.20989355 0.2115717  0.2082154  0.20776456\n",
            " 0.20929242 0.20671259 0.20816531 0.21139637 0.20686287 0.21685661\n",
            " 0.21410144 0.2189856  0.22259236 0.21625548 0.22008766 0.22822793\n",
            " 0.22860363 0.2272511  0.22304321 0.22567314 0.22038823 0.22001252\n",
            " 0.21730745 0.21592987 0.21618034 0.21725736 0.21462743 0.19737007\n",
            " 0.19388854 0.18802755 0.18619912 0.19716969 0.19611772 0.19874765\n",
            " 0.19724483 0.19807138 0.19233563 0.18995617 0.20485911 0.21219787\n",
            " 0.21803381 0.22126487 0.21956168 0.21873513 0.21435191 0.21262367\n",
            " 0.20338134 0.19426425 0.22637264 0.22728853 0.22827786 0.2295353\n",
            " 0.23112208 0.23302332 0.23518923 0.2375602  0.24008161 0.24270938\n",
            " 0.24541168 0.24816746 0.25096402 0.25379476 0.25665674 0.25954941\n",
            " 0.26247323 0.26542887 0.26841712 0.27143854 0.27449328 0.27758139\n",
            " 0.28070244 0.28385615 0.28704172 0.29025862]\n",
            "26 day output [[0.29350585]]\n",
            "27 day input [0.1761052  0.17282405 0.17187226 0.16541014 0.16571071 0.16681277\n",
            " 0.16095178 0.15040701 0.15373826 0.15892298 0.16012523 0.16814026\n",
            " 0.17715717 0.17485285 0.18131497 0.18780213 0.19048215 0.1892799\n",
            " 0.19927364 0.19526612 0.20187852 0.2033062  0.20756418 0.20751409\n",
            " 0.21192235 0.20989355 0.2115717  0.2082154  0.20776456 0.20929242\n",
            " 0.20671259 0.20816531 0.21139637 0.20686287 0.21685661 0.21410144\n",
            " 0.2189856  0.22259236 0.21625548 0.22008766 0.22822793 0.22860363\n",
            " 0.2272511  0.22304321 0.22567314 0.22038823 0.22001252 0.21730745\n",
            " 0.21592987 0.21618034 0.21725736 0.21462743 0.19737007 0.19388854\n",
            " 0.18802755 0.18619912 0.19716969 0.19611772 0.19874765 0.19724483\n",
            " 0.19807138 0.19233563 0.18995617 0.20485911 0.21219787 0.21803381\n",
            " 0.22126487 0.21956168 0.21873513 0.21435191 0.21262367 0.20338134\n",
            " 0.19426425 0.22637264 0.22728853 0.22827786 0.2295353  0.23112208\n",
            " 0.23302332 0.23518923 0.2375602  0.24008161 0.24270938 0.24541168\n",
            " 0.24816746 0.25096402 0.25379476 0.25665674 0.25954941 0.26247323\n",
            " 0.26542887 0.26841712 0.27143854 0.27449328 0.27758139 0.28070244\n",
            " 0.28385615 0.28704172 0.29025862 0.29350585]\n",
            "27 day output [[0.29678258]]\n",
            "28 day input [0.17282405 0.17187226 0.16541014 0.16571071 0.16681277 0.16095178\n",
            " 0.15040701 0.15373826 0.15892298 0.16012523 0.16814026 0.17715717\n",
            " 0.17485285 0.18131497 0.18780213 0.19048215 0.1892799  0.19927364\n",
            " 0.19526612 0.20187852 0.2033062  0.20756418 0.20751409 0.21192235\n",
            " 0.20989355 0.2115717  0.2082154  0.20776456 0.20929242 0.20671259\n",
            " 0.20816531 0.21139637 0.20686287 0.21685661 0.21410144 0.2189856\n",
            " 0.22259236 0.21625548 0.22008766 0.22822793 0.22860363 0.2272511\n",
            " 0.22304321 0.22567314 0.22038823 0.22001252 0.21730745 0.21592987\n",
            " 0.21618034 0.21725736 0.21462743 0.19737007 0.19388854 0.18802755\n",
            " 0.18619912 0.19716969 0.19611772 0.19874765 0.19724483 0.19807138\n",
            " 0.19233563 0.18995617 0.20485911 0.21219787 0.21803381 0.22126487\n",
            " 0.21956168 0.21873513 0.21435191 0.21262367 0.20338134 0.19426425\n",
            " 0.22637264 0.22728853 0.22827786 0.2295353  0.23112208 0.23302332\n",
            " 0.23518923 0.2375602  0.24008161 0.24270938 0.24541168 0.24816746\n",
            " 0.25096402 0.25379476 0.25665674 0.25954941 0.26247323 0.26542887\n",
            " 0.26841712 0.27143854 0.27449328 0.27758139 0.28070244 0.28385615\n",
            " 0.28704172 0.29025862 0.29350585 0.29678258]\n",
            "28 day output [[0.30008793]]\n",
            "29 day input [0.17187226 0.16541014 0.16571071 0.16681277 0.16095178 0.15040701\n",
            " 0.15373826 0.15892298 0.16012523 0.16814026 0.17715717 0.17485285\n",
            " 0.18131497 0.18780213 0.19048215 0.1892799  0.19927364 0.19526612\n",
            " 0.20187852 0.2033062  0.20756418 0.20751409 0.21192235 0.20989355\n",
            " 0.2115717  0.2082154  0.20776456 0.20929242 0.20671259 0.20816531\n",
            " 0.21139637 0.20686287 0.21685661 0.21410144 0.2189856  0.22259236\n",
            " 0.21625548 0.22008766 0.22822793 0.22860363 0.2272511  0.22304321\n",
            " 0.22567314 0.22038823 0.22001252 0.21730745 0.21592987 0.21618034\n",
            " 0.21725736 0.21462743 0.19737007 0.19388854 0.18802755 0.18619912\n",
            " 0.19716969 0.19611772 0.19874765 0.19724483 0.19807138 0.19233563\n",
            " 0.18995617 0.20485911 0.21219787 0.21803381 0.22126487 0.21956168\n",
            " 0.21873513 0.21435191 0.21262367 0.20338134 0.19426425 0.22637264\n",
            " 0.22728853 0.22827786 0.2295353  0.23112208 0.23302332 0.23518923\n",
            " 0.2375602  0.24008161 0.24270938 0.24541168 0.24816746 0.25096402\n",
            " 0.25379476 0.25665674 0.25954941 0.26247323 0.26542887 0.26841712\n",
            " 0.27143854 0.27449328 0.27758139 0.28070244 0.28385615 0.28704172\n",
            " 0.29025862 0.29350585 0.29678258 0.30008793]\n",
            "29 day output [[0.30342057]]\n",
            "[[0.2263726443052292], [0.22728852927684784], [0.22827786207199097], [0.2295352965593338], [0.23112207651138306], [0.23302331566810608], [0.23518922924995422], [0.2375601977109909], [0.24008160829544067], [0.24270938336849213], [0.245411679148674], [0.24816745519638062], [0.2509640157222748], [0.25379475951194763], [0.2566567361354828], [0.25954940915107727], [0.2624732255935669], [0.2654288709163666], [0.2684171199798584], [0.2714385390281677], [0.2744932770729065], [0.2775813937187195], [0.2807024419307709], [0.2838561534881592], [0.28704172372817993], [0.29025861620903015], [0.29350584745407104], [0.29678258299827576], [0.30008792877197266], [0.3034205734729767]]\n"
          ]
        }
      ]
    },
    {
      "cell_type": "code",
      "source": [
        "day_new=np.arange(1,101)\n",
        "day_pred=np.arange(101,131)"
      ],
      "metadata": {
        "id": "NRXiKV6Y8z20"
      },
      "execution_count": null,
      "outputs": []
    },
    {
      "cell_type": "code",
      "source": [
        "df1=closing_set.tolist()\n",
        "df1.extend(lst_output)"
      ],
      "metadata": {
        "id": "3ZrOiVyZ9UOO"
      },
      "execution_count": null,
      "outputs": []
    },
    {
      "cell_type": "markdown",
      "source": [
        "# Visualization of Future Predicted Prices"
      ],
      "metadata": {
        "id": "b_VIxxsc-cNb"
      }
    },
    {
      "cell_type": "code",
      "source": [
        "plt.plot(day_new,scaler.inverse_transform(closing_set[1157:]))\n",
        "plt.plot(day_pred,scaler.inverse_transform(lst_output))"
      ],
      "metadata": {
        "colab": {
          "base_uri": "https://localhost:8080/",
          "height": 447
        },
        "id": "Jz6z3XVx9xBJ",
        "outputId": "b5f1929a-cf10-48f6-e253-5c83e2a6fec0"
      },
      "execution_count": null,
      "outputs": [
        {
          "output_type": "execute_result",
          "data": {
            "text/plain": [
              "[<matplotlib.lines.Line2D at 0x7b6071a29270>]"
            ]
          },
          "metadata": {},
          "execution_count": 35
        },
        {
          "output_type": "display_data",
          "data": {
            "text/plain": [
              "<Figure size 640x480 with 1 Axes>"
            ],
            "image/png": "[encoded data removed]"
          },
          "metadata": {}
        }
      ]
    },
    {
      "cell_type": "code",
      "source": [
        "plt.plot(df1[1000:])"
      ],
      "metadata": {
        "colab": {
          "base_uri": "https://localhost:8080/",
          "height": 447
        },
        "id": "qw5TRPIBAJJ3",
        "outputId": "fe19f8f7-0b47-40da-d003-918b8b9dbf5b"
      },
      "execution_count": null,
      "outputs": [
        {
          "output_type": "execute_result",
          "data": {
            "text/plain": [
              "[<matplotlib.lines.Line2D at 0x7b605f65bf10>]"
            ]
          },
          "metadata": {},
          "execution_count": 36
        },
        {
          "output_type": "display_data",
          "data": {
            "text/plain": [
              "<Figure size 640x480 with 1 Axes>"
            ],
            "image/png": "[encoded data removed]"
          },
          "metadata": {}
        }
      ]
    },
    {
      "cell_type": "code",
      "source": [],
      "metadata": {
        "id": "TRutgcRJAvqe"
      },
      "execution_count": null,
      "outputs": []
    }
  ]
}