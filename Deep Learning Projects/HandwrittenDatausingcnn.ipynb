{
  "nbformat": 4,
  "nbformat_minor": 0,
  "metadata": {
    "colab": {
      "provenance": [],
      "gpuType": "T4"
    },
    "kernelspec": {
      "name": "python3",
      "display_name": "Python 3"
    },
    "language_info": {
      "name": "python"
    },
    "accelerator": "TPU"
  },
  "cells": [
    {
      "cell_type": "markdown",
      "source": [
        "#Handwritten Data Recognition using CNN\n",
        "Handwritten digit recognition is a prevalent multiclass classification problem usually built into the software of mobile banking applications, as well as more traditional automated teller machines, to give users the ability to automatically deposit paper checks.Here each class of data consists of (images of) several handwritten versions of a single digit in the range 0 − 9, giving a total of ten classes. Handwriting character recognition has become a common area of research because of developments in technology such as handwriting recording tools and powerful mobile computers (Elleuch, Maalej, & Kherallah, 2016). Because handwriting is highly dependent on the writer, however, it is challenging to develop a highly reliable recognition system that recognizes every handwritten character input to an application."
      ],
      "metadata": {
        "id": "ZjtUDq9Gcw3Z"
      }
    },
    {
      "cell_type": "markdown",
      "source": [
        "#Dataset-MNIST\n",
        "The MNIST database (Modified National Institute of Standards and Technology database) is a large database of handwritten digits that is commonly used for training various image processing systems. The database is also widely used for training and testing in the field of machine learning. It was created by \"re-mixing\" the samples from NIST's original datasets.The creators felt that since NIST's training dataset was taken from American Census Bureau employees, while the testing dataset was taken from American high school students, it was not well-suited for machine learning experiments.Furthermore, the black and white images from NIST were normalized to fit into a 28x28 pixel bounding box and anti-aliased, which introduced grayscale levels.\n",
        "The MNIST database contains 60,000 training images and 10,000 testing images."
      ],
      "metadata": {
        "id": "-M6srXsLd0dD"
      }
    },
    {
      "cell_type": "markdown",
      "source": [
        "#Import Libraries"
      ],
      "metadata": {
        "id": "toJQTm00exgm"
      }
    },
    {
      "cell_type": "code",
      "execution_count": 30,
      "metadata": {
        "id": "sSjwLdxbgDht"
      },
      "outputs": [],
      "source": [
        "import tensorflow as tf\n",
        "import numpy as np\n",
        "import matplotlib.pyplot as plt\n",
        "from keras.optimizers import Adam\n",
        "from keras.layers import Dense,MaxPooling2D,Conv2D,Flatten\n",
        "from keras.models import Sequential\n",
        "from keras.datasets import mnist\n"
      ]
    },
    {
      "cell_type": "markdown",
      "source": [
        "#Data Loading"
      ],
      "metadata": {
        "id": "aaPSkrcUe9aZ"
      }
    },
    {
      "cell_type": "code",
      "source": [
        "(x_train,y_train),(x_test,y_test)=mnist.load_data()\n"
      ],
      "metadata": {
        "id": "kcO-D7jVg5K8"
      },
      "execution_count": 9,
      "outputs": []
    },
    {
      "cell_type": "code",
      "source": [
        "x_train.shape,x_test.shape"
      ],
      "metadata": {
        "colab": {
          "base_uri": "https://localhost:8080/"
        },
        "id": "L3j6o6qahmqU",
        "outputId": "fceecbd6-627d-4ca9-9604-9947dbc2a87b"
      },
      "execution_count": 10,
      "outputs": [
        {
          "output_type": "execute_result",
          "data": {
            "text/plain": [
              "((60000, 28, 28), (10000, 28, 28))"
            ]
          },
          "metadata": {},
          "execution_count": 10
        }
      ]
    },
    {
      "cell_type": "code",
      "source": [
        "x_train_flattened=x_train.reshape(60000,28,28,1).astype('float32')\n",
        "x_test_flattened=x_test.reshape(10000,28,28,1).astype('float32')"
      ],
      "metadata": {
        "id": "pFe4MGgxhsjD"
      },
      "execution_count": 11,
      "outputs": []
    },
    {
      "cell_type": "code",
      "source": [
        "x_train_flattened=x_train_flattened/255\n",
        "x_test_flattened=x_test_flattened/255"
      ],
      "metadata": {
        "id": "Zvm55xOpixCB"
      },
      "execution_count": 12,
      "outputs": []
    },
    {
      "cell_type": "code",
      "source": [
        "from keras.utils import to_categorical\n",
        "y_train=to_categorical(y_train,10)\n",
        "y_test=to_categorical(y_test,10)"
      ],
      "metadata": {
        "id": "z01Lk4Bmqe__"
      },
      "execution_count": 13,
      "outputs": []
    },
    {
      "cell_type": "code",
      "source": [
        "x_train_flattened.shape"
      ],
      "metadata": {
        "colab": {
          "base_uri": "https://localhost:8080/"
        },
        "id": "tcoAuuZgoUia",
        "outputId": "b372ed8a-597b-46e3-e7a5-79c0d94b2e66"
      },
      "execution_count": 14,
      "outputs": [
        {
          "output_type": "execute_result",
          "data": {
            "text/plain": [
              "(60000, 28, 28, 1)"
            ]
          },
          "metadata": {},
          "execution_count": 14
        }
      ]
    },
    {
      "cell_type": "markdown",
      "source": [
        "#Model Building\n",
        "Sequential Model − Sequential model is basically a linear composition of Keras Layers. Sequential model is easy, minimal as well as has the ability to represent nearly all available neural networks."
      ],
      "metadata": {
        "id": "nfB7LzlxfMOM"
      }
    },
    {
      "cell_type": "code",
      "source": [
        "model=Sequential()"
      ],
      "metadata": {
        "id": "PgpiuXH3i3-r"
      },
      "execution_count": 15,
      "outputs": []
    },
    {
      "cell_type": "markdown",
      "source": [
        "In this model 2 convolution and maxpooling layers are added.Then after flattening we send the maxpooled layer output into 2 dense layer.We choose relu as activation function in convolution as well as one dense layer. The Output layer have softmax as their activation function."
      ],
      "metadata": {
        "id": "Q2vhFF38fo8P"
      }
    },
    {
      "cell_type": "code",
      "source": [
        "model.add(Conv2D(input_shape=(28,28,1),\n",
        "                 filters=32,\n",
        "                 kernel_size=(3,3),\n",
        "                 strides=(1,1),\n",
        "                 activation='relu'))\n",
        "model.add(MaxPooling2D(pool_size=(2,2)))\n",
        "model.add(Conv2D(activation='relu',\n",
        "                 filters=64,\n",
        "                 kernel_size=(3,3)))\n",
        "model.add(MaxPooling2D(pool_size=(2,2)))\n",
        "model.add(Flatten())\n",
        "model.add(Dense(units=128,activation='relu'))\n",
        "model.add(Dense(units=10,activation='softmax'))\n"
      ],
      "metadata": {
        "id": "qdlr7eXnji-S"
      },
      "execution_count": 16,
      "outputs": []
    },
    {
      "cell_type": "code",
      "source": [
        "'''Checking the model summary'''\n",
        "model.summary()"
      ],
      "metadata": {
        "colab": {
          "base_uri": "https://localhost:8080/"
        },
        "id": "oE-eF0Fqldga",
        "outputId": "e71866bf-9426-4507-80e7-ce861bfa69d1"
      },
      "execution_count": 17,
      "outputs": [
        {
          "output_type": "stream",
          "name": "stdout",
          "text": [
            "Model: \"sequential\"\n",
            "_________________________________________________________________\n",
            " Layer (type)                Output Shape              Param #   \n",
            "=================================================================\n",
            " conv2d (Conv2D)             (None, 26, 26, 32)        320       \n",
            "                                                                 \n",
            " max_pooling2d (MaxPooling2  (None, 13, 13, 32)        0         \n",
            " D)                                                              \n",
            "                                                                 \n",
            " conv2d_1 (Conv2D)           (None, 11, 11, 64)        18496     \n",
            "                                                                 \n",
            " max_pooling2d_1 (MaxPoolin  (None, 5, 5, 64)          0         \n",
            " g2D)                                                            \n",
            "                                                                 \n",
            " flatten (Flatten)           (None, 1600)              0         \n",
            "                                                                 \n",
            " dense (Dense)               (None, 128)               204928    \n",
            "                                                                 \n",
            " dense_1 (Dense)             (None, 10)                1290      \n",
            "                                                                 \n",
            "=================================================================\n",
            "Total params: 225034 (879.04 KB)\n",
            "Trainable params: 225034 (879.04 KB)\n",
            "Non-trainable params: 0 (0.00 Byte)\n",
            "_________________________________________________________________\n"
          ]
        }
      ]
    },
    {
      "cell_type": "code",
      "source": [
        "'''Compiling the model by using adam optimizer'''\n",
        "model.compile(optimizer='adam',\n",
        "              loss='categorical_crossentropy',\n",
        "              metrics=['accuracy'])"
      ],
      "metadata": {
        "id": "c58pMR75lmaN"
      },
      "execution_count": 18,
      "outputs": []
    },
    {
      "cell_type": "code",
      "source": [
        "y_train.shape,x_train_flattened.shape"
      ],
      "metadata": {
        "colab": {
          "base_uri": "https://localhost:8080/"
        },
        "id": "7_RAJoXGoyks",
        "outputId": "de631428-4c5f-4c95-e8d4-bbc0b5d972f0"
      },
      "execution_count": 19,
      "outputs": [
        {
          "output_type": "execute_result",
          "data": {
            "text/plain": [
              "((60000, 10), (60000, 28, 28, 1))"
            ]
          },
          "metadata": {},
          "execution_count": 19
        }
      ]
    },
    {
      "cell_type": "code",
      "source": [
        "'''Fitting the model'''\n",
        "model.fit(x_train_flattened,\n",
        "          y_train,\n",
        "          batch_size=128,\n",
        "          epochs=10,\n",
        "          verbose=1)"
      ],
      "metadata": {
        "colab": {
          "base_uri": "https://localhost:8080/"
        },
        "id": "u9OmMlK-mN-T",
        "outputId": "654ed3c6-c62b-4410-c744-a17a512d8d4c"
      },
      "execution_count": 20,
      "outputs": [
        {
          "output_type": "stream",
          "name": "stdout",
          "text": [
            "Epoch 1/10\n",
            "469/469 [==============================] - 47s 99ms/step - loss: 0.2061 - accuracy: 0.9398\n",
            "Epoch 2/10\n",
            "469/469 [==============================] - 49s 106ms/step - loss: 0.0569 - accuracy: 0.9826\n",
            "Epoch 3/10\n",
            "469/469 [==============================] - 53s 113ms/step - loss: 0.0393 - accuracy: 0.9877\n",
            "Epoch 4/10\n",
            "469/469 [==============================] - 46s 98ms/step - loss: 0.0284 - accuracy: 0.9913\n",
            "Epoch 5/10\n",
            "469/469 [==============================] - 46s 99ms/step - loss: 0.0233 - accuracy: 0.9924\n",
            "Epoch 6/10\n",
            "469/469 [==============================] - 51s 110ms/step - loss: 0.0185 - accuracy: 0.9942\n",
            "Epoch 7/10\n",
            "469/469 [==============================] - 46s 97ms/step - loss: 0.0138 - accuracy: 0.9959\n",
            "Epoch 8/10\n",
            "469/469 [==============================] - 55s 116ms/step - loss: 0.0118 - accuracy: 0.9963\n",
            "Epoch 9/10\n",
            "469/469 [==============================] - 46s 97ms/step - loss: 0.0086 - accuracy: 0.9973\n",
            "Epoch 10/10\n",
            "469/469 [==============================] - 48s 103ms/step - loss: 0.0075 - accuracy: 0.9976\n"
          ]
        },
        {
          "output_type": "execute_result",
          "data": {
            "text/plain": [
              "<keras.src.callbacks.History at 0x7dc6de6898a0>"
            ]
          },
          "metadata": {},
          "execution_count": 20
        }
      ]
    },
    {
      "cell_type": "markdown",
      "source": [
        "#Model Evaluation"
      ],
      "metadata": {
        "id": "2TKBbjtzg9nS"
      }
    },
    {
      "cell_type": "code",
      "source": [
        "model.evaluate(x_test_flattened,y_test)"
      ],
      "metadata": {
        "colab": {
          "base_uri": "https://localhost:8080/"
        },
        "id": "GsARppglmekr",
        "outputId": "f982922f-bd3d-4e36-fa14-0627f2cec1f4"
      },
      "execution_count": 21,
      "outputs": [
        {
          "output_type": "stream",
          "name": "stdout",
          "text": [
            "313/313 [==============================] - 3s 9ms/step - loss: 0.0363 - accuracy: 0.9897\n"
          ]
        },
        {
          "output_type": "execute_result",
          "data": {
            "text/plain": [
              "[0.03627074882388115, 0.9897000193595886]"
            ]
          },
          "metadata": {},
          "execution_count": 21
        }
      ]
    },
    {
      "cell_type": "code",
      "source": [
        "y_pred=model.predict(x_test_flattened)"
      ],
      "metadata": {
        "colab": {
          "base_uri": "https://localhost:8080/"
        },
        "id": "DAcGhpUYuVr2",
        "outputId": "921e52c2-84f1-4bcc-cd86-bdb796a169b8"
      },
      "execution_count": 22,
      "outputs": [
        {
          "output_type": "stream",
          "name": "stdout",
          "text": [
            "313/313 [==============================] - 6s 18ms/step\n"
          ]
        }
      ]
    },
    {
      "cell_type": "code",
      "source": [
        "print(y_pred)"
      ],
      "metadata": {
        "colab": {
          "base_uri": "https://localhost:8080/"
        },
        "id": "tuOcBMUVumy3",
        "outputId": "b834dcde-57b9-4dfa-82d0-6fd6361bed5c"
      },
      "execution_count": 23,
      "outputs": [
        {
          "output_type": "stream",
          "name": "stdout",
          "text": [
            "[[4.82016499e-13 3.54804068e-11 6.27413899e-09 ... 9.99988377e-01\n",
            "  4.68208583e-10 9.80548864e-10]\n",
            " [5.03348127e-11 1.49934232e-09 9.99999940e-01 ... 7.12053680e-13\n",
            "  5.57318185e-11 8.33090531e-15]\n",
            " [2.56323730e-11 9.99996245e-01 2.85515722e-09 ... 2.86864832e-07\n",
            "  8.35966318e-09 3.83667681e-11]\n",
            " ...\n",
            " [1.63737326e-19 9.11562492e-14 6.24079423e-16 ... 2.37285937e-11\n",
            "  3.15467867e-13 3.16087330e-11]\n",
            " [8.96360330e-12 1.11394641e-14 3.66861977e-13 ... 1.06705314e-13\n",
            "  5.44908460e-07 1.80145354e-13]\n",
            " [8.62916849e-10 1.10073615e-12 3.41816597e-09 ... 1.88151098e-17\n",
            "  1.21591481e-09 1.09128722e-12]]\n"
          ]
        }
      ]
    },
    {
      "cell_type": "code",
      "source": [
        "plt.matshow(x_test[1])"
      ],
      "metadata": {
        "id": "LzdCnE9puv8l",
        "colab": {
          "base_uri": "https://localhost:8080/",
          "height": 454
        },
        "outputId": "92ec4e22-3924-4171-ecda-26214e571fc3"
      },
      "execution_count": 31,
      "outputs": [
        {
          "output_type": "execute_result",
          "data": {
            "text/plain": [
              "<matplotlib.image.AxesImage at 0x7dc6dd937610>"
            ]
          },
          "metadata": {},
          "execution_count": 31
        },
        {
          "output_type": "display_data",
          "data": {
            "text/plain": [
              "<Figure size 480x480 with 1 Axes>"
            ],
            "image/png": "[encoded data removed]"
          },
          "metadata": {}
        }
      ]
    },
    {
      "cell_type": "code",
      "source": [
        "np.argmax(y_pred[1])"
      ],
      "metadata": {
        "colab": {
          "base_uri": "https://localhost:8080/"
        },
        "id": "_-NAHRMEhmnY",
        "outputId": "29c2940c-6ce5-4988-bf43-f8029a072141"
      },
      "execution_count": 32,
      "outputs": [
        {
          "output_type": "execute_result",
          "data": {
            "text/plain": [
              "2"
            ]
          },
          "metadata": {},
          "execution_count": 32
        }
      ]
    },
    {
      "cell_type": "markdown",
      "source": [
        "#Conclusion\n",
        "By the help of cnn we build a model and achieved accuracy of 98.76%\n",
        "\n",
        "\n"
      ],
      "metadata": {
        "id": "vUKPi1Wri11B"
      }
    }
  ]
}